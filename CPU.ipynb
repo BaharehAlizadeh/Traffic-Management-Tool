{
 "cells": [
  {
   "cell_type": "code",
   "execution_count": null,
   "metadata": {},
   "outputs": [],
   "source": [
    "from models.common import DetectMultiBackend\n",
    "weights = \"C:/Users/piyalong/yolov5-master/yolov5-master/yolov5n.pt\"\n",
    "\n",
    "model = DetectMultiBackend(weights, device='cpu', dnn=False)"
   ]
  },
  {
   "cell_type": "code",
   "execution_count": null,
   "metadata": {},
   "outputs": [],
   "source": []
  },
  {
   "cell_type": "code",
   "execution_count": null,
   "metadata": {},
   "outputs": [],
   "source": [
    "all_names = dict(zip(range(0,90), model.names))"
   ]
  },
  {
   "cell_type": "code",
   "execution_count": null,
   "metadata": {},
   "outputs": [],
   "source": [
    "all_names"
   ]
  },
  {
   "cell_type": "code",
   "execution_count": 12,
   "metadata": {},
   "outputs": [
    {
     "name": "stderr",
     "output_type": "stream",
     "text": [
      "Fusing layers... \n",
      "Model Summary: 213 layers, 1867405 parameters, 0 gradients\n"
     ]
    },
    {
     "name": "stdout",
     "output_type": "stream",
     "text": [
      "Frame_1,FPS_1.0;  Frame_2,FPS_1.0;  Frame_3,FPS_1.0;  Frame_4,FPS_1.0;  Frame_5,FPS_1.0;  Frame_6,FPS_1.0;  Frame_7,FPS_2.0;  Frame_8,FPS_2.0;  Frame_9,FPS_2.0;  Frame_10,FPS_2.0;  Frame_11,FPS_2.0;  Frame_12,FPS_2.0;  Frame_13,FPS_2.0;  Frame_14,FPS_2.0;  Frame_15,FPS_2.0;  Frame_16,FPS_2.0;  Frame_17,FPS_2.0;  Frame_18,FPS_2.0;  Frame_19,FPS_2.0;  Frame_20,FPS_2.0;  Frame_21,FPS_2.0;  Frame_22,FPS_2.0;  Frame_23,FPS_2.0;  Frame_24,FPS_2.0;  Frame_25,FPS_2.0;  Frame_26,FPS_2.0;  Frame_27,FPS_2.0;  Frame_28,FPS_2.0;  Frame_29,FPS_2.0;  Frame_30,FPS_2.0;  Frame_31,FPS_2.0;  Frame_32,FPS_2.0;  Frame_33,FPS_2.0;  Frame_34,FPS_2.0;  Frame_35,FPS_2.0;  Frame_36,FPS_2.0;  Frame_37,FPS_2.0;  Frame_38,FPS_2.0;  Frame_39,FPS_2.0;  Frame_40,FPS_2.0;  Frame_41,FPS_1.0;  Frame_42,FPS_1.0;  Frame_43,FPS_1.0;  Frame_44,FPS_1.0;  Frame_45,FPS_1.0;  Frame_46,FPS_1.0;  Frame_47,FPS_1.0;  Frame_48,FPS_1.0;  Frame_49,FPS_1.0;  Frame_50,FPS_1.0;  Frame_51,FPS_1.0;  Frame_52,FPS_1.0;  Frame_53,FPS_1.0;  Frame_54,FPS_1.0;  Frame_55,FPS_1.0;  Frame_56,FPS_1.0;  Frame_57,FPS_1.0;  Frame_58,FPS_1.0;  Frame_59,FPS_1.0;  Frame_60,FPS_1.0;  Frame_61,FPS_1.0;  Frame_62,FPS_1.0;  Frame_63,FPS_1.0;  Frame_64,FPS_1.0;  Frame_65,FPS_1.0;  Frame_66,FPS_1.0;  Frame_67,FPS_1.0;  Frame_68,FPS_1.0;  Frame_69,FPS_1.0;  Frame_70,FPS_1.0;  Frame_71,FPS_1.0;  Frame_72,FPS_1.0;  Frame_73,FPS_1.0;  Frame_74,FPS_1.0;  Frame_75,FPS_1.0;  Frame_76,FPS_1.0;  Frame_77,FPS_1.0;  Frame_78,FPS_1.0;  Frame_79,FPS_1.0;  Frame_80,FPS_1.0;  Frame_81,FPS_1.0;  Frame_82,FPS_1.0;  Frame_83,FPS_1.0;  Frame_84,FPS_1.0;  Frame_85,FPS_1.0;  Frame_86,FPS_1.0;  Frame_87,FPS_1.0;  Frame_88,FPS_1.0;  Frame_89,FPS_1.0;  Frame_90,FPS_1.0;  Frame_91,FPS_1.0;  Frame_92,FPS_1.0;  Frame_93,FPS_1.0;  Frame_94,FPS_1.0;  Frame_95,FPS_1.0;  Frame_96,FPS_1.0;  Frame_97,FPS_1.0;  Frame_98,FPS_1.0;  Frame_99,FPS_1.0;  Frame_100,FPS_1.0;  Frame_101,FPS_1.0;  Frame_102,FPS_1.0;  Frame_103,FPS_1.0;  Frame_104,FPS_1.0;  Frame_105,FPS_1.0;  Frame_106,FPS_1.0;  Frame_107,FPS_1.0;  Frame_108,FPS_1.0;  Frame_109,FPS_1.0;  Frame_110,FPS_1.0;  Frame_111,FPS_1.0;  Frame_112,FPS_1.0;  Frame_113,FPS_1.0;  Frame_114,FPS_1.0;  Frame_115,FPS_1.0;  Frame_116,FPS_1.0;  Frame_117,FPS_1.0;  Frame_118,FPS_1.0;  Frame_119,FPS_1.0;  Frame_120,FPS_1.0;  Frame_121,FPS_1.0;  Frame_122,FPS_1.0;  Frame_123,FPS_1.0;  Frame_124,FPS_1.0;  Frame_125,FPS_1.0;  Frame_126,FPS_1.0;  Frame_127,FPS_1.0;  Frame_128,FPS_1.0;  Frame_129,FPS_1.0;  Frame_130,FPS_1.0;  Frame_131,FPS_1.0;  Frame_132,FPS_1.0;  Frame_133,FPS_1.0;  Frame_134,FPS_1.0;  Frame_135,FPS_1.0;  Frame_136,FPS_1.0;  Frame_137,FPS_1.0;  Frame_138,FPS_1.0;  Frame_139,FPS_1.0;  Frame_140,FPS_1.0;  Frame_141,FPS_1.0;  Frame_142,FPS_1.0;  Frame_143,FPS_1.0;  Frame_144,FPS_1.0;  Frame_145,FPS_1.0;  Frame_146,FPS_1.0;  Frame_147,FPS_1.0;  Frame_148,FPS_1.0;  Frame_149,FPS_1.0;  Frame_150,FPS_1.0;  Frame_151,FPS_1.0;  Frame_152,FPS_1.0;  Frame_153,FPS_1.0;  Frame_154,FPS_1.0;  Frame_155,FPS_1.0;  Frame_156,FPS_1.0;  Frame_157,FPS_1.0;  Frame_158,FPS_1.0;  Frame_159,FPS_1.0;  Frame_160,FPS_1.0;  Frame_161,FPS_1.0;  Frame_162,FPS_1.0;  Frame_163,FPS_1.0;  Frame_164,FPS_1.0;  Frame_165,FPS_1.0;  Frame_166,FPS_1.0;  Frame_167,FPS_1.0;  Frame_168,FPS_1.0;  Frame_169,FPS_1.0;  Frame_170,FPS_1.0;  Frame_171,FPS_1.0;  Frame_172,FPS_1.0;  Frame_173,FPS_1.0;  Frame_174,FPS_1.0;  Frame_175,FPS_1.0;  Frame_176,FPS_1.0;  Frame_177,FPS_1.0;  Frame_178,FPS_1.0;  Frame_179,FPS_1.0;  Frame_180,FPS_1.0;  Frame_181,FPS_1.0;  Frame_182,FPS_1.0;  Frame_183,FPS_1.0;  Frame_184,FPS_1.0;  Frame_185,FPS_1.0;  Frame_186,FPS_1.0;  Frame_187,FPS_1.0;  Frame_188,FPS_1.0;  Frame_189,FPS_1.0;  Frame_190,FPS_1.0;  Frame_191,FPS_1.0;  Frame_192,FPS_1.0;  Frame_193,FPS_1.0;  Frame_194,FPS_1.0;  Frame_195,FPS_1.0;  Frame_196,FPS_1.0;  Frame_197,FPS_1.0;  Frame_198,FPS_1.0;  Frame_199,FPS_1.0;  Frame_200,FPS_1.0;  Frame_201,FPS_1.0;  Frame_202,FPS_1.0;  Frame_203,FPS_1.0;  Frame_204,FPS_1.0;  Frame_205,FPS_1.0;  Frame_206,FPS_1.0;  Frame_207,FPS_1.0;  Frame_208,FPS_1.0;  Frame_209,FPS_1.0;  Frame_210,FPS_1.0;  Frame_211,FPS_1.0;  Frame_212,FPS_1.0;  Frame_213,FPS_1.0;  Frame_214,FPS_1.0;  Frame_215,FPS_1.0;  Frame_216,FPS_1.0;  Frame_217,FPS_1.0;  Frame_218,FPS_1.0;  Frame_219,FPS_1.0;  Frame_220,FPS_1.0;  Frame_221,FPS_1.0;  Frame_222,FPS_1.0;  Frame_223,FPS_1.0;  Frame_224,FPS_1.0;  Frame_225,FPS_1.0;  Frame_226,FPS_1.0;  Frame_227,FPS_1.0;  Frame_228,FPS_1.0;  Frame_229,FPS_1.0;  Frame_230,FPS_1.0;  Frame_231,FPS_1.0;  Frame_232,FPS_1.0;  Frame_233,FPS_1.0;  Frame_234,FPS_1.0;  Frame_235,FPS_1.0;  Frame_236,FPS_1.0;  Frame_237,FPS_1.0;  Frame_238,FPS_1.0;  Frame_239,FPS_1.0;  Frame_240,FPS_1.0;  Frame_241,FPS_1.0;  Frame_242,FPS_1.0;  Frame_243,FPS_1.0;  Frame_244,FPS_1.0;  Frame_245,FPS_1.0;  Frame_246,FPS_1.0;  Frame_247,FPS_1.0;  Frame_248,FPS_1.0;  Frame_249,FPS_1.0;  Frame_250,FPS_1.0;  Frame_251,FPS_1.0;  Frame_252,FPS_1.0;  Frame_253,FPS_1.0;  Frame_254,FPS_1.0;  Frame_255,FPS_1.0;  Frame_256,FPS_1.0;  Frame_257,FPS_1.0;  Frame_258,FPS_1.0;  Frame_259,FPS_1.0;  Frame_260,FPS_1.0;  Frame_261,FPS_1.0;  Frame_262,FPS_1.0;  Frame_263,FPS_1.0;  Frame_264,FPS_1.0;  Frame_265,FPS_1.0;  Frame_266,FPS_1.0;  Frame_267,FPS_1.0;  Frame_268,FPS_1.0;  Frame_269,FPS_1.0;  Frame_270,FPS_1.0;  Frame_271,FPS_1.0;  Frame_272,FPS_1.0;  Frame_273,FPS_1.0;  Frame_274,FPS_1.0;  Frame_275,FPS_1.0;  Frame_276,FPS_1.0;  Frame_277,FPS_1.0;  Frame_278,FPS_1.0;  Frame_279,FPS_1.0;  Frame_280,FPS_1.0;  Frame_281,FPS_1.0;  Frame_282,FPS_1.0;  Frame_283,FPS_1.0;  Frame_284,FPS_1.0;  Frame_285,FPS_1.0;  Frame_286,FPS_1.0;  Frame_287,FPS_1.0;  Frame_288,FPS_1.0;  Frame_289,FPS_1.0;  Frame_290,FPS_1.0;  Frame_291,FPS_1.0;  Frame_292,FPS_1.0;  Frame_293,FPS_1.0;  Frame_294,FPS_1.0;  Frame_295,FPS_1.0;  Frame_296,FPS_1.0;  Frame_297,FPS_1.0;  Frame_298,FPS_1.0;  Frame_299,FPS_1.0;  Frame_300,FPS_1.0;  Frame_301,FPS_1.0;  Frame_302,FPS_1.0;  Frame_303,FPS_1.0;  Frame_304,FPS_1.0;  Frame_305,FPS_1.0;  Frame_306,FPS_1.0;  Frame_307,FPS_1.0;  Frame_308,FPS_1.0;  Frame_309,FPS_1.0;  Frame_310,FPS_1.0;  Frame_311,FPS_1.0;  Frame_312,FPS_1.0;  Frame_313,FPS_1.0;  Frame_314,FPS_1.0;  Frame_315,FPS_1.0;  Frame_316,FPS_1.0;  Frame_317,FPS_1.0;  Frame_318,FPS_1.0;  Frame_319,FPS_1.0;  Frame_320,FPS_1.0;  Frame_321,FPS_1.0;  Frame_322,FPS_1.0;  Frame_323,FPS_1.0;  Frame_324,FPS_1.0;  Frame_325,FPS_1.0;  Frame_326,FPS_1.0;  Frame_327,FPS_1.0;  Frame_328,FPS_1.0;  Frame_329,FPS_1.0;  Frame_330,FPS_1.0;  Frame_331,FPS_1.0;  Frame_332,FPS_1.0;  Frame_333,FPS_1.0;  Frame_334,FPS_1.0;  Frame_335,FPS_1.0;  Frame_336,FPS_1.0;  Frame_337,FPS_1.0;  Frame_338,FPS_1.0;  Frame_339,FPS_1.0;  Frame_340,FPS_1.0;  Frame_341,FPS_1.0;  Frame_342,FPS_1.0;  Frame_343,FPS_1.0;  Frame_344,FPS_1.0;  Frame_345,FPS_1.0;  Frame_346,FPS_1.0;  Frame_347,FPS_1.0;  Frame_348,FPS_1.0;  Frame_349,FPS_1.0;  Frame_350,FPS_1.0;  Frame_351,FPS_1.0;  Frame_352,FPS_1.0;  Frame_353,FPS_1.0;  Frame_354,FPS_1.0;  Frame_355,FPS_1.0;  Frame_356,FPS_1.0;  Frame_357,FPS_1.0;  Frame_358,FPS_1.0;  Frame_359,FPS_1.0;  Frame_360,FPS_1.0;  Frame_361,FPS_1.0;  Frame_362,FPS_1.0;  Frame_363,FPS_1.0;  Frame_364,FPS_1.0;  Frame_365,FPS_1.0;  Frame_366,FPS_1.0;  Frame_367,FPS_1.0;  Frame_368,FPS_1.0;  Frame_369,FPS_1.0;  Frame_370,FPS_1.0;  Frame_371,FPS_1.0;  Frame_372,FPS_1.0;  Frame_373,FPS_1.0;  Frame_374,FPS_1.0;  Frame_375,FPS_1.0;  Frame_376,FPS_1.0;  Frame_377,FPS_1.0;  Frame_378,FPS_1.0;  Frame_379,FPS_1.0;  Frame_380,FPS_1.0;  Frame_381,FPS_1.0;  Frame_382,FPS_1.0;  Frame_383,FPS_1.0;  Frame_384,FPS_1.0;  Frame_385,FPS_1.0;  Frame_386,FPS_1.0;  Frame_387,FPS_1.0;  Frame_388,FPS_1.0;  Frame_389,FPS_1.0;  Frame_390,FPS_1.0;  Frame_391,FPS_1.0;  Frame_392,FPS_1.0;  Frame_393,FPS_1.0;  Frame_394,FPS_1.0;  Frame_395,FPS_1.0;  Frame_396,FPS_1.0;  Frame_397,FPS_1.0;  Frame_398,FPS_1.0;  Frame_399,FPS_1.0;  Frame_400,FPS_1.0;  Frame_401,FPS_1.0;  Frame_402,FPS_1.0;  Frame_403,FPS_1.0;  Frame_404,FPS_1.0;  Frame_405,FPS_1.0;  Frame_406,FPS_1.0;  Frame_407,FPS_1.0;  Frame_408,FPS_1.0;  Frame_409,FPS_1.0;  Frame_410,FPS_1.0;  Frame_411,FPS_1.0;  Frame_412,FPS_1.0;  Frame_413,FPS_1.0;  Frame_414,FPS_1.0;  Frame_415,FPS_1.0;  Frame_416,FPS_1.0;  Frame_417,FPS_1.0;  Frame_418,FPS_1.0;  Frame_419,FPS_1.0;  Frame_420,FPS_1.0;  Frame_421,FPS_1.0;  Frame_422,FPS_1.0;  Frame_423,FPS_1.0;  Frame_424,FPS_1.0;  Frame_425,FPS_1.0;  Frame_426,FPS_1.0;  Frame_427,FPS_1.0;  Frame_428,FPS_1.0;  Frame_429,FPS_1.0;  Frame_430,FPS_1.0;  Frame_431,FPS_1.0;  Frame_432,FPS_1.0;  Frame_433,FPS_1.0;  Frame_434,FPS_1.0;  Frame_435,FPS_1.0;  Frame_436,FPS_1.0;  Frame_437,FPS_1.0;  Frame_438,FPS_1.0;  Frame_439,FPS_1.0;  Frame_440,FPS_1.0;  Frame_441,FPS_1.0;  Frame_442,FPS_1.0;  Frame_443,FPS_1.0;  Frame_444,FPS_1.0;  Frame_445,FPS_1.0;  Frame_446,FPS_1.0;  Frame_447,FPS_1.0;  Frame_448,FPS_1.0;  Frame_449,FPS_1.0;  Frame_450,FPS_1.0;  Frame_451,FPS_1.0;  Frame_452,FPS_1.0;  Frame_453,FPS_1.0;  Frame_454,FPS_1.0;  Frame_455,FPS_1.0;  Frame_456,FPS_1.0;  Frame_457,FPS_1.0;  Frame_458,FPS_1.0;  Frame_459,FPS_1.0;  Frame_460,FPS_1.0;  Frame_461,FPS_1.0;  Frame_462,FPS_1.0;  Frame_463,FPS_1.0;  Frame_464,FPS_1.0;  Frame_465,FPS_1.0;  Frame_466,FPS_1.0;  Frame_467,FPS_1.0;  Frame_468,FPS_1.0;  Frame_469,FPS_1.0;  Frame_470,FPS_1.0;  Frame_471,FPS_1.0;  Frame_472,FPS_1.0;  Frame_473,FPS_1.0;  Frame_474,FPS_1.0;  Frame_475,FPS_1.0;  Frame_476,FPS_1.0;  Frame_477,FPS_1.0;  Frame_478,FPS_1.0;  Frame_479,FPS_1.0;  Frame_480,FPS_1.0;  Frame_481,FPS_1.0;  Frame_482,FPS_1.0;  Frame_483,FPS_1.0;  Frame_484,FPS_1.0;  Frame_485,FPS_1.0;  Frame_486,FPS_1.0;  Frame_487,FPS_1.0;  Frame_488,FPS_1.0;  Frame_489,FPS_1.0;  Frame_490,FPS_1.0;  Frame_491,FPS_1.0;  Frame_492,FPS_1.0;  Frame_493,FPS_1.0;  Frame_494,FPS_1.0;  Frame_495,FPS_1.0;  Frame_496,FPS_1.0;  Frame_497,FPS_1.0;  Frame_498,FPS_1.0;  Frame_499,FPS_1.0;  Frame_500,FPS_1.0;  Frame_501,FPS_1.0;  Frame_502,FPS_1.0;  Frame_503,FPS_1.0;  Frame_504,FPS_1.0;  Frame_505,FPS_1.0;  Frame_506,FPS_1.0;  Frame_507,FPS_1.0;  Frame_508,FPS_1.0;  Frame_509,FPS_1.0;  Frame_510,FPS_1.0;  Frame_511,FPS_1.0;  Frame_512,FPS_1.0;  Frame_513,FPS_1.0;  Frame_514,FPS_1.0;  Frame_515,FPS_1.0;  Frame_516,FPS_1.0;  Frame_517,FPS_1.0;  Frame_518,FPS_1.0;  Frame_519,FPS_1.0;  Frame_520,FPS_1.0;  Frame_521,FPS_1.0;  Frame_522,FPS_1.0;  Frame_523,FPS_1.0;  Frame_524,FPS_1.0;  Frame_525,FPS_1.0;  Frame_526,FPS_1.0;  Frame_527,FPS_1.0;  Frame_528,FPS_1.0;  Frame_529,FPS_1.0;  Frame_530,FPS_1.0;  Frame_531,FPS_1.0;  Frame_532,FPS_1.0;  Frame_533,FPS_1.0;  Frame_534,FPS_1.0;  Frame_535,FPS_1.0;  Frame_536,FPS_1.0;  Frame_537,FPS_1.0;  Frame_538,FPS_1.0;  Frame_539,FPS_1.0;  Frame_540,FPS_1.0;  Frame_541,FPS_1.0;  Frame_542,FPS_1.0;  Frame_543,FPS_1.0;  Frame_544,FPS_1.0;  Frame_545,FPS_1.0;  Frame_546,FPS_1.0;  Frame_547,FPS_1.0;  Frame_548,FPS_1.0;  Frame_549,FPS_1.0;  Frame_550,FPS_1.0;  Frame_551,FPS_1.0;  Frame_552,FPS_1.0;  Frame_553,FPS_1.0;  Frame_554,FPS_1.0;  Frame_555,FPS_1.0;  Frame_556,FPS_1.0;  Frame_557,FPS_1.0;  Frame_558,FPS_1.0;  Frame_559,FPS_1.0;  Frame_560,FPS_1.0;  Frame_561,FPS_1.0;  Frame_562,FPS_1.0;  Frame_563,FPS_1.0;  Frame_564,FPS_1.0;  Frame_565,FPS_1.0;  Frame_566,FPS_1.0;  Frame_567,FPS_1.0;  Frame_568,FPS_1.0;  Frame_569,FPS_1.0;  Frame_570,FPS_1.0;  Frame_571,FPS_1.0;  Frame_572,FPS_1.0;  Frame_573,FPS_1.0;  Frame_574,FPS_1.0;  Frame_575,FPS_1.0;  Frame_576,FPS_1.0;  Frame_577,FPS_1.0;  Frame_578,FPS_1.0;  Frame_579,FPS_1.0;  Frame_580,FPS_1.0;  Frame_581,FPS_1.0;  Frame_582,FPS_1.0;  Frame_583,FPS_1.0;  Frame_584,FPS_1.0;  Frame_585,FPS_1.0;  Frame_586,FPS_1.0;  Frame_587,FPS_1.0;  Frame_588,FPS_1.0;  Frame_589,FPS_1.0;  Frame_590,FPS_1.0;  Frame_591,FPS_1.0;  Frame_592,FPS_1.0;  Frame_593,FPS_1.0;  Frame_594,FPS_1.0;  Frame_595,FPS_1.0;  Frame_596,FPS_1.0;  Frame_597,FPS_1.0;  Frame_598,FPS_1.0;  Frame_599,FPS_1.0;  Frame_600,FPS_1.0;  Frame_601,FPS_1.0;  Frame_602,FPS_1.0;  Frame_603,FPS_1.0;  Frame_604,FPS_1.0;  Frame_605,FPS_1.0;  Frame_606,FPS_1.0;  Frame_607,FPS_1.0;  Frame_608,FPS_1.0;  Frame_609,FPS_1.0;  Frame_610,FPS_1.0;  Frame_611,FPS_1.0;  Frame_612,FPS_1.0;  Frame_613,FPS_1.0;  Frame_614,FPS_1.0;  Frame_615,FPS_1.0;  Frame_616,FPS_1.0;  Frame_617,FPS_1.0;  Frame_618,FPS_1.0;  Frame_619,FPS_1.0;  Frame_620,FPS_1.0;  Frame_621,FPS_1.0;  Frame_622,FPS_1.0;  Frame_623,FPS_1.0;  Frame_624,FPS_1.0;  Frame_625,FPS_1.0;  Frame_626,FPS_1.0;  Frame_627,FPS_1.0;  Frame_628,FPS_1.0;  Frame_629,FPS_1.0;  Frame_630,FPS_1.0;  Frame_631,FPS_1.0;  Frame_632,FPS_1.0;  Frame_633,FPS_1.0;  Frame_634,FPS_1.0;  Frame_635,FPS_1.0;  Frame_636,FPS_1.0;  Frame_637,FPS_1.0;  Frame_638,FPS_1.0;  Frame_639,FPS_1.0;  Frame_640,FPS_1.0;  Frame_641,FPS_1.0;  Frame_642,FPS_1.0;  Frame_643,FPS_1.0;  Frame_644,FPS_1.0;  Frame_645,FPS_1.0;  Frame_646,FPS_1.0;  Frame_647,FPS_1.0;  Frame_648,FPS_1.0;  Frame_649,FPS_1.0;  Frame_650,FPS_1.0;  Frame_651,FPS_1.0;  Frame_652,FPS_1.0;  Frame_653,FPS_1.0;  Frame_654,FPS_1.0;  Frame_655,FPS_1.0;  Frame_656,FPS_1.0;  Frame_657,FPS_1.0;  Frame_658,FPS_1.0;  Frame_659,FPS_1.0;  Frame_660,FPS_1.0;  Frame_661,FPS_1.0;  Frame_662,FPS_1.0;  Frame_663,FPS_1.0;  Frame_664,FPS_1.0;  Frame_665,FPS_1.0;  Frame_666,FPS_1.0;  Frame_667,FPS_1.0;  Frame_668,FPS_1.0;  Frame_669,FPS_1.0;  Frame_670,FPS_1.0;  Frame_671,FPS_1.0;  Frame_672,FPS_1.0;  Frame_673,FPS_1.0;  Frame_674,FPS_1.0;  Frame_675,FPS_1.0;  Frame_676,FPS_1.0;  Frame_677,FPS_1.0;  Frame_678,FPS_1.0;  Frame_679,FPS_1.0;  Frame_680,FPS_1.0;  Frame_681,FPS_1.0;  Frame_682,FPS_1.0;  Frame_683,FPS_1.0;  Frame_684,FPS_1.0;  Frame_685,FPS_1.0;  Frame_686,FPS_1.0;  Frame_687,FPS_1.0;  Frame_688,FPS_1.0;  Frame_689,FPS_1.0;  Frame_690,FPS_1.0;  Frame_691,FPS_1.0;  Frame_692,FPS_1.0;  Frame_693,FPS_1.0;  Frame_694,FPS_1.0;  Frame_695,FPS_1.0;  Frame_696,FPS_1.0;  Frame_697,FPS_1.0;  Frame_698,FPS_1.0;  Frame_699,FPS_1.0;  Frame_700,FPS_1.0;  Frame_701,FPS_1.0;  Frame_702,FPS_1.0;  Frame_703,FPS_1.0;  Frame_704,FPS_1.0;  Frame_705,FPS_1.0;  Frame_706,FPS_1.0;  Frame_707,FPS_1.0;  Frame_708,FPS_1.0;  Frame_709,FPS_1.0;  Frame_710,FPS_1.0;  Frame_711,FPS_1.0;  Frame_712,FPS_1.0;  Frame_713,FPS_1.0;  Frame_714,FPS_1.0;  Frame_715,FPS_1.0;  Frame_716,FPS_1.0;  Frame_717,FPS_1.0;  Frame_718,FPS_1.0;  Frame_719,FPS_1.0;  Frame_720,FPS_1.0;  Frame_721,FPS_1.0;  Frame_722,FPS_1.0;  Frame_723,FPS_1.0;  Frame_724,FPS_1.0;  Frame_725,FPS_1.0;  Frame_726,FPS_1.0;  Frame_727,FPS_1.0;  Frame_728,FPS_1.0;  Frame_729,FPS_1.0;  Frame_730,FPS_1.0;  Frame_731,FPS_1.0;  Frame_732,FPS_1.0;  Frame_733,FPS_1.0;  Frame_734,FPS_1.0;  Frame_735,FPS_1.0;  Frame_736,FPS_1.0;  Frame_737,FPS_1.0;  Frame_738,FPS_1.0;  Frame_739,FPS_1.0;  Frame_740,FPS_1.0;  Frame_741,FPS_1.0;  Frame_742,FPS_1.0;  Frame_743,FPS_1.0;  Frame_744,FPS_1.0;  Frame_745,FPS_1.0;  Frame_746,FPS_1.0;  Frame_747,FPS_1.0;  Frame_748,FPS_1.0;  Frame_749,FPS_1.0;  Frame_750,FPS_1.0;  Frame_751,FPS_1.0;  Frame_752,FPS_1.0;  Frame_753,FPS_1.0;  Frame_754,FPS_1.0;  Frame_755,FPS_1.0;  Frame_756,FPS_1.0;  Frame_757,FPS_1.0;  Frame_758,FPS_1.0;  Frame_759,FPS_1.0;  Frame_760,FPS_1.0;  Frame_761,FPS_1.0;  Frame_762,FPS_1.0;  Frame_763,FPS_1.0;  Frame_764,FPS_1.0;  Frame_765,FPS_1.0;  Frame_766,FPS_1.0;  Frame_767,FPS_1.0;  Frame_768,FPS_1.0;  Frame_769,FPS_1.0;  Frame_770,FPS_1.0;  Frame_771,FPS_1.0;  Frame_772,FPS_1.0;  Frame_773,FPS_1.0;  Frame_774,FPS_1.0;  Frame_775,FPS_1.0;  Frame_776,FPS_1.0;  Frame_777,FPS_1.0;  Frame_778,FPS_1.0;  Frame_779,FPS_1.0;  Frame_780,FPS_1.0;  Frame_781,FPS_1.0;  Frame_782,FPS_1.0;  Frame_783,FPS_1.0;  Frame_784,FPS_1.0;  Frame_785,FPS_1.0;  Frame_786,FPS_1.0;  Frame_787,FPS_1.0;  Frame_788,FPS_1.0;  Frame_789,FPS_1.0;  Frame_790,FPS_1.0;  Frame_791,FPS_1.0;  Frame_792,FPS_1.0;  Frame_793,FPS_1.0;  Frame_794,FPS_1.0;  Frame_795,FPS_1.0;  Frame_796,FPS_1.0;  Frame_797,FPS_1.0;  Frame_798,FPS_1.0;  Frame_799,FPS_1.0;  Frame_800,FPS_1.0;  Frame_801,FPS_1.0;  Frame_802,FPS_1.0;  Frame_803,FPS_1.0;  Frame_804,FPS_1.0;  Frame_805,FPS_1.0;  Frame_806,FPS_1.0;  Frame_807,FPS_1.0;  Frame_808,FPS_1.0;  Frame_809,FPS_1.0;  Frame_810,FPS_1.0;  Frame_811,FPS_1.0;  Frame_812,FPS_1.0;  Frame_813,FPS_1.0;  Frame_814,FPS_1.0;  Frame_815,FPS_1.0;  Frame_816,FPS_1.0;  Frame_817,FPS_1.0;  Frame_818,FPS_1.0;  Frame_819,FPS_1.0;  Frame_820,FPS_1.0;  Frame_821,FPS_1.0;  Frame_822,FPS_1.0;  Frame_823,FPS_1.0;  Frame_824,FPS_1.0;  Frame_825,FPS_1.0;  Frame_826,FPS_1.0;  Frame_827,FPS_1.0;  Frame_828,FPS_1.0;  Frame_829,FPS_1.0;  Frame_830,FPS_1.0;  Frame_831,FPS_1.0;  Frame_832,FPS_1.0;  Frame_833,FPS_1.0;  Frame_834,FPS_1.0;  Frame_835,FPS_1.0;  Frame_836,FPS_1.0;  Frame_837,FPS_1.0;  Frame_838,FPS_1.0;  Frame_839,FPS_1.0;  Frame_840,FPS_1.0;  Frame_841,FPS_1.0;  Frame_842,FPS_1.0;  Frame_843,FPS_1.0;  Frame_844,FPS_1.0;  Frame_845,FPS_1.0;  Frame_846,FPS_1.0;  Frame_847,FPS_1.0;  Frame_848,FPS_1.0;  Frame_849,FPS_1.0;  Frame_850,FPS_1.0;  Frame_851,FPS_1.0;  Frame_852,FPS_1.0;  Frame_853,FPS_1.0;  Frame_854,FPS_1.0;  Frame_855,FPS_1.0;  Frame_856,FPS_1.0;  Frame_857,FPS_1.0;  Frame_858,FPS_1.0;  Frame_859,FPS_1.0;  Frame_860,FPS_1.0;  Frame_861,FPS_1.0;  Frame_862,FPS_1.0;  Frame_863,FPS_1.0;  Frame_864,FPS_1.0;  Frame_865,FPS_1.0;  Frame_866,FPS_1.0;  Frame_867,FPS_1.0;  Frame_868,FPS_1.0;  Frame_869,FPS_1.0;  Frame_870,FPS_1.0;  Frame_871,FPS_1.0;  Frame_872,FPS_1.0;  Frame_873,FPS_1.0;  Frame_874,FPS_1.0;  Frame_875,FPS_1.0;  Frame_876,FPS_1.0;  Frame_877,FPS_1.0;  Frame_878,FPS_1.0;  Frame_879,FPS_1.0;  Frame_880,FPS_1.0;  Frame_881,FPS_1.0;  Frame_882,FPS_1.0;  Frame_883,FPS_1.0;  Frame_884,FPS_1.0;  Frame_885,FPS_1.0;  Frame_886,FPS_1.0;  Frame_887,FPS_1.0;  Frame_888,FPS_1.0;  Frame_889,FPS_1.0;  Frame_890,FPS_1.0;  Frame_891,FPS_1.0;  Frame_892,FPS_1.0;  Frame_893,FPS_1.0;  Frame_894,FPS_1.0;  Frame_895,FPS_1.0;  Frame_896,FPS_1.0;  Frame_897,FPS_1.0;  Frame_898,FPS_1.0;  Frame_899,FPS_1.0;  Frame_900,FPS_1.0;  Frame_901,FPS_1.0;  Frame_902,FPS_1.0;  Frame_903,FPS_1.0;  Frame_904,FPS_1.0;  Frame_905,FPS_1.0;  Frame_906,FPS_1.0;  Frame_907,FPS_1.0;  Frame_908,FPS_1.0;  Frame_909,FPS_1.0;  Frame_910,FPS_1.0;  Frame_911,FPS_1.0;  Frame_912,FPS_1.0;  Frame_913,FPS_1.0;  Frame_914,FPS_1.0;  Frame_915,FPS_1.0;  Frame_916,FPS_1.0;  Frame_917,FPS_1.0;  Frame_918,FPS_1.0;  Frame_919,FPS_1.0;  Frame_920,FPS_1.0;  Frame_921,FPS_1.0;  Frame_922,FPS_1.0;  Frame_923,FPS_1.0;  Frame_924,FPS_1.0;  Frame_925,FPS_1.0;  Frame_926,FPS_1.0;  Frame_927,FPS_1.0;  Frame_928,FPS_1.0;  Frame_929,FPS_1.0;  Frame_930,FPS_1.0;  Frame_931,FPS_1.0;  Frame_932,FPS_1.0;  Frame_933,FPS_1.0;  Frame_934,FPS_1.0;  Frame_935,FPS_1.0;  Frame_936,FPS_1.0;  Frame_937,FPS_1.0;  Frame_938,FPS_1.0;  Frame_939,FPS_1.0;  Frame_940,FPS_1.0;  Frame_941,FPS_1.0;  Frame_942,FPS_1.0;  Frame_943,FPS_1.0;  Frame_944,FPS_1.0;  Frame_945,FPS_1.0;  Frame_946,FPS_1.0;  Frame_947,FPS_1.0;  Frame_948,FPS_1.0;  Frame_949,FPS_1.0;  Frame_950,FPS_1.0;  Frame_951,FPS_1.0;  Frame_952,FPS_1.0;  Frame_953,FPS_1.0;  Frame_954,FPS_1.0;  Frame_955,FPS_1.0;  Frame_956,FPS_1.0;  Frame_957,FPS_1.0;  Frame_958,FPS_1.0;  Frame_959,FPS_1.0;  Frame_960,FPS_1.0;  Frame_961,FPS_1.0;  Frame_962,FPS_1.0;  Frame_963,FPS_1.0;  Frame_964,FPS_1.0;  Frame_965,FPS_1.0;  Frame_966,FPS_1.0;  Frame_967,FPS_1.0;  Frame_968,FPS_1.0;  Frame_969,FPS_1.0;  Frame_970,FPS_1.0;  Frame_971,FPS_1.0;  Frame_972,FPS_1.0;  Frame_973,FPS_1.0;  Frame_974,FPS_1.0;  Frame_975,FPS_1.0;  Frame_976,FPS_1.0;  Frame_977,FPS_1.0;  Frame_978,FPS_1.0;  Frame_979,FPS_1.0;  Frame_980,FPS_1.0;  Frame_981,FPS_1.0;  Frame_982,FPS_1.0;  Frame_983,FPS_1.0;  Frame_984,FPS_1.0;  Frame_985,FPS_1.0;  Frame_986,FPS_1.0;  Frame_987,FPS_1.0;  Frame_988,FPS_1.0;  Frame_989,FPS_1.0;  Frame_990,FPS_1.0;  Frame_991,FPS_1.0;  Frame_992,FPS_1.0;  Frame_993,FPS_1.0;  Frame_994,FPS_1.0;  Frame_995,FPS_1.0;  Frame_996,FPS_1.0;  Frame_997,FPS_1.0;  Frame_998,FPS_1.0;  Frame_999,FPS_1.0;  Frame_1000,FPS_1.0;  Frame_1001,FPS_1.0;  Frame_1002,FPS_1.0;  Frame_1003,FPS_1.0;  Frame_1004,FPS_1.0;  Frame_1005,FPS_1.0;  Frame_1006,FPS_1.0;  Frame_1007,FPS_1.0;  Frame_1008,FPS_1.0;  Frame_1009,FPS_1.0;  Frame_1010,FPS_1.0;  Frame_1011,FPS_1.0;  Frame_1012,FPS_1.0;  Frame_1013,FPS_1.0;  Frame_1014,FPS_1.0;  Frame_1015,FPS_1.0;  Frame_1016,FPS_1.0;  Frame_1017,FPS_1.0;  Frame_1018,FPS_1.0;  Frame_1019,FPS_1.0;  Frame_1020,FPS_1.0;  Frame_1021,FPS_1.0;  Frame_1022,FPS_1.0;  Frame_1023,FPS_1.0;  Frame_1024,FPS_1.0;  Frame_1025,FPS_1.0;  Frame_1026,FPS_1.0;  Frame_1027,FPS_1.0;  Frame_1028,FPS_1.0;  Frame_1029,FPS_1.0;  Frame_1030,FPS_1.0;  Frame_1031,FPS_1.0;  Frame_1032,FPS_1.0;  Frame_1033,FPS_1.0;  Frame_1034,FPS_1.0;  Frame_1035,FPS_1.0;  Frame_1036,FPS_1.0;  Frame_1037,FPS_1.0;  Frame_1038,FPS_1.0;  Frame_1039,FPS_1.0;  Frame_1040,FPS_1.0;  Frame_1041,FPS_1.0;  Frame_1042,FPS_1.0;  Frame_1043,FPS_1.0;  Frame_1044,FPS_1.0;  Frame_1045,FPS_1.0;  Frame_1046,FPS_1.0;  Frame_1047,FPS_1.0;  Frame_1048,FPS_1.0;  Frame_1049,FPS_1.0;  Frame_1050,FPS_1.0;  Frame_1051,FPS_1.0;  Frame_1052,FPS_1.0;  Frame_1053,FPS_1.0;  Frame_1054,FPS_1.0;  Frame_1055,FPS_1.0;  Frame_1056,FPS_1.0;  Frame_1057,FPS_1.0;  Frame_1058,FPS_1.0;  Frame_1059,FPS_1.0;  Frame_1060,FPS_1.0;  Frame_1061,FPS_1.0;  Frame_1062,FPS_1.0;  Frame_1063,FPS_1.0;  Frame_1064,FPS_1.0;  Frame_1065,FPS_1.0;  Frame_1066,FPS_1.0;  Frame_1067,FPS_1.0;  Frame_1068,FPS_1.0;  Frame_1069,FPS_1.0;  Frame_1070,FPS_1.0;  Frame_1071,FPS_1.0;  Frame_1072,FPS_1.0;  Frame_1073,FPS_1.0;  Frame_1074,FPS_1.0;  Frame_1075,FPS_1.0;  Frame_1076,FPS_1.0;  Frame_1077,FPS_1.0;  Frame_1078,FPS_1.0;  Frame_1079,FPS_1.0;  Frame_1080,FPS_1.0;  Frame_1081,FPS_1.0;  Frame_1082,FPS_1.0;  Frame_1083,FPS_1.0;  Frame_1084,FPS_1.0;  Frame_1085,FPS_1.0;  Frame_1086,FPS_1.0;  Frame_1087,FPS_1.0;  Frame_1088,FPS_1.0;  Frame_1089,FPS_1.0;  Frame_1090,FPS_1.0;  Frame_1091,FPS_1.0;  Frame_1092,FPS_1.0;  Frame_1093,FPS_1.0;  Frame_1094,FPS_1.0;  Frame_1095,FPS_1.0;  Frame_1096,FPS_1.0;  Frame_1097,FPS_1.0;  Frame_1098,FPS_1.0;  Frame_1099,FPS_1.0;  Frame_1100,FPS_1.0;  Frame_1101,FPS_1.0;  Frame_1102,FPS_1.0;  Frame_1103,FPS_1.0;  Frame_1104,FPS_1.0;  Frame_1105,FPS_1.0;  Frame_1106,FPS_1.0;  Frame_1107,FPS_1.0;  Frame_1108,FPS_1.0;  Frame_1109,FPS_1.0;  Frame_1110,FPS_1.0;  Frame_1111,FPS_1.0;  Frame_1112,FPS_1.0;  Frame_1113,FPS_1.0;  Frame_1114,FPS_1.0;  Frame_1115,FPS_1.0;  Frame_1116,FPS_1.0;  Frame_1117,FPS_1.0;  Frame_1118,FPS_1.0;  Frame_1119,FPS_1.0;  Frame_1120,FPS_1.0;  Frame_1121,FPS_1.0;  Frame_1122,FPS_1.0;  Frame_1123,FPS_1.0;  Frame_1124,FPS_1.0;  Frame_1125,FPS_1.0;  Frame_1126,FPS_1.0;  Frame_1127,FPS_1.0;  Frame_1128,FPS_1.0;  Frame_1129,FPS_1.0;  Frame_1130,FPS_1.0;  Frame_1131,FPS_1.0;  Frame_1132,FPS_1.0;  Frame_1133,FPS_1.0;  Frame_1134,FPS_1.0;  Frame_1135,FPS_1.0;  Frame_1136,FPS_1.0;  Frame_1137,FPS_1.0;  Frame_1138,FPS_1.0;  Frame_1139,FPS_1.0;  Frame_1140,FPS_1.0;  Frame_1141,FPS_1.0;  Frame_1142,FPS_1.0;  Frame_1143,FPS_1.0;  Frame_1144,FPS_1.0;  Frame_1145,FPS_1.0;  Frame_1146,FPS_1.0;  Frame_1147,FPS_1.0;  Frame_1148,FPS_1.0;  Frame_1149,FPS_1.0;  Frame_1150,FPS_1.0;  Frame_1151,FPS_1.0;  Frame_1152,FPS_1.0;  Frame_1153,FPS_1.0;  Frame_1154,FPS_1.0;  Frame_1155,FPS_1.0;  Frame_1156,FPS_1.0;  Frame_1157,FPS_1.0;  Frame_1158,FPS_1.0;  Frame_1159,FPS_1.0;  Frame_1160,FPS_1.0;  Frame_1161,FPS_1.0;  Frame_1162,FPS_1.0;  Frame_1163,FPS_1.0;  Frame_1164,FPS_1.0;  Frame_1165,FPS_1.0;  Frame_1166,FPS_1.0;  Frame_1167,FPS_1.0;  Frame_1168,FPS_1.0;  Frame_1169,FPS_1.0;  Frame_1170,FPS_1.0;  Frame_1171,FPS_1.0;  Frame_1172,FPS_1.0;  Frame_1173,FPS_1.0;  Frame_1174,FPS_1.0;  Frame_1175,FPS_1.0;  Frame_1176,FPS_1.0;  Frame_1177,FPS_1.0;  Frame_1178,FPS_1.0;  Frame_1179,FPS_1.0;  Frame_1180,FPS_1.0;  Frame_1181,FPS_1.0;  Frame_1182,FPS_1.0;  Frame_1183,FPS_1.0;  Frame_1184,FPS_1.0;  Frame_1185,FPS_1.0;  Frame_1186,FPS_1.0;  Frame_1187,FPS_1.0;  Frame_1188,FPS_1.0;  Frame_1189,FPS_1.0;  Frame_1190,FPS_1.0;  Frame_1191,FPS_1.0;  Frame_1192,FPS_1.0;  Frame_1193,FPS_1.0;  Frame_1194,FPS_1.0;  Frame_1195,FPS_1.0;  Frame_1196,FPS_1.0;  Frame_1197,FPS_1.0;  Frame_1198,FPS_1.0;  Frame_1199,FPS_1.0;  Frame_1200,FPS_1.0;  Frame_1201,FPS_1.0;  Frame_1202,FPS_1.0;  Frame_1203,FPS_1.0;  Frame_1204,FPS_1.0;  Frame_1205,FPS_1.0;  Frame_1206,FPS_1.0;  Frame_1207,FPS_1.0;  Frame_1208,FPS_1.0;  Frame_1209,FPS_1.0;  Frame_1210,FPS_1.0;  Frame_1211,FPS_1.0;  Frame_1212,FPS_1.0;  Frame_1213,FPS_1.0;  Frame_1214,FPS_1.0;  Frame_1215,FPS_1.0;  Frame_1216,FPS_1.0;  Frame_1217,FPS_1.0;  Frame_1218,FPS_1.0;  Frame_1219,FPS_1.0;  Frame_1220,FPS_1.0;  Frame_1221,FPS_1.0;  Frame_1222,FPS_1.0;  Frame_1223,FPS_1.0;  Frame_1224,FPS_1.0;  Frame_1225,FPS_1.0;  Frame_1226,FPS_1.0;  Frame_1227,FPS_1.0;  Frame_1228,FPS_1.0;  Frame_1229,FPS_1.0;  Frame_1230,FPS_1.0;  Frame_1231,FPS_1.0;  Frame_1232,FPS_1.0;  Frame_1233,FPS_1.0;  Frame_1234,FPS_1.0;  Frame_1235,FPS_1.0;  Frame_1236,FPS_1.0;  Frame_1237,FPS_1.0;  Frame_1238,FPS_1.0;  Frame_1239,FPS_1.0;  Frame_1240,FPS_1.0;  Frame_1241,FPS_1.0;  Frame_1242,FPS_1.0;  Frame_1243,FPS_1.0;  Frame_1244,FPS_1.0;  Frame_1245,FPS_1.0;  Frame_1246,FPS_1.0;  Frame_1247,FPS_1.0;  Frame_1248,FPS_1.0;  Frame_1249,FPS_1.0;  Frame_1250,FPS_1.0;  Frame_1251,FPS_1.0;  Frame_1252,FPS_1.0;  Frame_1253,FPS_1.0;  Frame_1254,FPS_1.0;  Frame_1255,FPS_1.0;  Frame_1256,FPS_1.0;  Frame_1257,FPS_1.0;  Frame_1258,FPS_1.0;  Frame_1259,FPS_1.0;  Frame_1260,FPS_1.0;  Frame_1261,FPS_1.0;  Frame_1262,FPS_1.0;  Frame_1263,FPS_1.0;  Frame_1264,FPS_1.0;  Frame_1265,FPS_1.0;  Frame_1266,FPS_1.0;  Frame_1267,FPS_1.0;  Frame_1268,FPS_1.0;  Frame_1269,FPS_1.0;  Frame_1270,FPS_1.0;  Frame_1271,FPS_1.0;  Frame_1272,FPS_1.0;  Frame_1273,FPS_1.0;  Frame_1274,FPS_1.0;  Frame_1275,FPS_1.0;  Frame_1276,FPS_1.0;  Frame_1277,FPS_1.0;  Frame_1278,FPS_1.0;  Frame_1279,FPS_1.0;  Frame_1280,FPS_1.0;  Frame_1281,FPS_1.0;  Frame_1282,FPS_1.0;  Frame_1283,FPS_1.0;  Frame_1284,FPS_1.0;  Frame_1285,FPS_1.0;  Frame_1286,FPS_1.0;  Frame_1287,FPS_1.0;  Frame_1288,FPS_1.0;  Frame_1289,FPS_1.0;  Frame_1290,FPS_1.0;  Frame_1291,FPS_1.0;  Frame_1292,FPS_1.0;  Frame_1293,FPS_1.0;  Frame_1294,FPS_1.0;  Frame_1295,FPS_1.0;  Frame_1296,FPS_1.0;  Frame_1297,FPS_1.0;  Frame_1298,FPS_1.0;  Frame_1299,FPS_1.0;  Frame_1300,FPS_1.0;  Frame_1301,FPS_1.0;  Frame_1302,FPS_1.0;  Frame_1303,FPS_1.0;  Frame_1304,FPS_1.0;  Frame_1305,FPS_1.0;  Frame_1306,FPS_1.0;  Frame_1307,FPS_1.0;  Frame_1308,FPS_1.0;  Frame_1309,FPS_1.0;  Frame_1310,FPS_1.0;  Frame_1311,FPS_1.0;  Frame_1312,FPS_1.0;  Frame_1313,FPS_1.0;  Frame_1314,FPS_1.0;  Frame_1315,FPS_1.0;  Frame_1316,FPS_1.0;  Frame_1317,FPS_1.0;  Frame_1318,FPS_1.0;  Frame_1319,FPS_1.0;  Frame_1320,FPS_1.0;  Frame_1321,FPS_1.0;  Frame_1322,FPS_1.0;  Frame_1323,FPS_1.0;  Frame_1324,FPS_1.0;  Frame_1325,FPS_1.0;  Frame_1326,FPS_1.0;  Frame_1327,FPS_1.0;  Frame_1328,FPS_1.0;  Frame_1329,FPS_1.0;  Frame_1330,FPS_1.0;  Frame_1331,FPS_1.0;  Frame_1332,FPS_1.0;  Frame_1333,FPS_1.0;  Frame_1334,FPS_1.0;  Frame_1335,FPS_1.0;  Frame_1336,FPS_1.0;  Frame_1337,FPS_1.0;  Frame_1338,FPS_1.0;  Frame_1339,FPS_1.0;  Frame_1340,FPS_1.0;  Frame_1341,FPS_1.0;  Frame_1342,FPS_1.0;  Frame_1343,FPS_1.0;  Frame_1344,FPS_1.0;  Frame_1345,FPS_1.0;  Frame_1346,FPS_1.0;  Frame_1347,FPS_1.0;  Frame_1348,FPS_1.0;  Frame_1349,FPS_1.0;  Frame_1350,FPS_1.0;  Frame_1351,FPS_1.0;  Frame_1352,FPS_1.0;  Frame_1353,FPS_1.0;  Frame_1354,FPS_1.0;  Frame_1355,FPS_1.0;  Frame_1356,FPS_1.0;  Frame_1357,FPS_1.0;  Frame_1358,FPS_1.0;  Frame_1359,FPS_1.0;  Frame_1360,FPS_1.0;  Frame_1361,FPS_1.0;  Frame_1362,FPS_1.0;  Frame_1363,FPS_1.0;  Frame_1364,FPS_1.0;  Frame_1365,FPS_1.0;  Frame_1366,FPS_1.0;  Frame_1367,FPS_1.0;  Frame_1368,FPS_1.0;  Frame_1369,FPS_1.0;  Frame_1370,FPS_1.0;  Frame_1371,FPS_1.0;  Frame_1372,FPS_1.0;  Frame_1373,FPS_1.0;  Frame_1374,FPS_1.0;  Frame_1375,FPS_1.0;  Frame_1376,FPS_1.0;  Frame_1377,FPS_1.0;  Frame_1378,FPS_1.0;  Frame_1379,FPS_1.0;  Frame_1380,FPS_1.0;  Frame_1381,FPS_1.0;  Frame_1382,FPS_1.0;  Frame_1383,FPS_1.0;  Frame_1384,FPS_1.0;  Frame_1385,FPS_1.0;  Frame_1386,FPS_1.0;  Frame_1387,FPS_1.0;  Frame_1388,FPS_1.0;  Frame_1389,FPS_1.0;  Frame_1390,FPS_1.0;  Frame_1391,FPS_1.0;  Frame_1392,FPS_1.0;  Frame_1393,FPS_1.0;  Frame_1394,FPS_1.0;  Frame_1395,FPS_1.0;  Frame_1396,FPS_1.0;  Frame_1397,FPS_1.0;  Frame_1398,FPS_1.0;  Frame_1399,FPS_1.0;  Frame_1400,FPS_1.0;  Frame_1401,FPS_1.0;  Frame_1402,FPS_1.0;  Frame_1403,FPS_1.0;  Frame_1404,FPS_1.0;  Frame_1405,FPS_1.0;  Frame_1406,FPS_1.0;  Frame_1407,FPS_1.0;  Frame_1408,FPS_1.0;  Frame_1409,FPS_1.0;  Frame_1410,FPS_1.0;  Frame_1411,FPS_1.0;  Frame_1412,FPS_1.0;  Frame_1413,FPS_1.0;  Frame_1414,FPS_1.0;  Frame_1415,FPS_1.0;  Frame_1416,FPS_1.0;  Frame_1417,FPS_1.0;  Frame_1418,FPS_1.0;  Frame_1419,FPS_1.0;  Frame_1420,FPS_1.0;  Frame_1421,FPS_1.0;  Frame_1422,FPS_1.0;  Frame_1423,FPS_1.0;  Frame_1424,FPS_1.0;  Frame_1425,FPS_1.0;  Frame_1426,FPS_1.0;  Frame_1427,FPS_1.0;  Frame_1428,FPS_1.0;  Frame_1429,FPS_1.0;  Frame_1430,FPS_1.0;  Frame_1431,FPS_1.0;  Frame_1432,FPS_1.0;  Frame_1433,FPS_1.0;  Frame_1434,FPS_1.0;  Frame_1435,FPS_1.0;  Frame_1436,FPS_1.0;  Frame_1437,FPS_1.0;  Frame_1438,FPS_1.0;  Frame_1439,FPS_1.0;  Frame_1440,FPS_1.0;  Frame_1441,FPS_1.0;  Frame_1442,FPS_1.0;  Frame_1443,FPS_1.0;  Frame_1444,FPS_1.0;  Frame_1445,FPS_1.0;  Frame_1446,FPS_1.0;  Frame_1447,FPS_1.0;  Frame_1448,FPS_1.0;  Frame_1449,FPS_1.0;  Frame_1450,FPS_1.0;  Frame_1451,FPS_1.0;  Frame_1452,FPS_1.0;  Frame_1453,FPS_1.0;  Frame_1454,FPS_1.0;  Frame_1455,FPS_1.0;  Frame_1456,FPS_1.0;  Frame_1457,FPS_1.0;  Frame_1458,FPS_1.0;  Frame_1459,FPS_1.0;  Frame_1460,FPS_1.0;  Frame_1461,FPS_1.0;  Frame_1462,FPS_1.0;  Frame_1463,FPS_1.0;  Frame_1464,FPS_1.0;  Frame_1465,FPS_1.0;  Frame_1466,FPS_1.0;  Frame_1467,FPS_1.0;  Frame_1468,FPS_1.0;  Frame_1469,FPS_1.0;  Frame_1470,FPS_1.0;  Frame_1471,FPS_1.0;  Frame_1472,FPS_1.0;  Frame_1473,FPS_1.0;  Frame_1474,FPS_1.0;  Frame_1475,FPS_1.0;  Frame_1476,FPS_1.0;  Frame_1477,FPS_1.0;  Frame_1478,FPS_1.0;  Frame_1479,FPS_1.0;  Frame_1480,FPS_1.0;  Frame_1481,FPS_1.0;  Frame_1482,FPS_1.0;  Frame_1483,FPS_1.0;  Frame_1484,FPS_1.0;  Frame_1485,FPS_1.0;  Frame_1486,FPS_1.0;  Frame_1487,FPS_1.0;  Frame_1488,FPS_1.0;  Frame_1489,FPS_1.0;  Frame_1490,FPS_1.0;  Frame_1491,FPS_1.0;  Frame_1492,FPS_1.0;  Frame_1493,FPS_1.0;  Frame_1494,FPS_1.0;  Frame_1495,FPS_1.0;  Frame_1496,FPS_1.0;  Frame_1497,FPS_1.0;  Frame_1498,FPS_1.0;  Frame_1499,FPS_1.0;  Frame_1500,FPS_1.0;  Frame_1501,FPS_1.0;  Frame_1502,FPS_1.0;  Frame_1503,FPS_1.0;  Frame_1504,FPS_1.0;  Frame_1505,FPS_1.0;  Frame_1506,FPS_1.0;  Frame_1507,FPS_1.0;  Frame_1508,FPS_1.0;  Frame_1509,FPS_1.0;  Frame_1510,FPS_1.0;  Frame_1511,FPS_1.0;  Frame_1512,FPS_1.0;  Frame_1513,FPS_1.0;  Frame_1514,FPS_1.0;  Frame_1515,FPS_1.0;  Frame_1516,FPS_1.0;  Frame_1517,FPS_1.0;  Frame_1518,FPS_1.0;  Frame_1519,FPS_1.0;  Frame_1520,FPS_1.0;  Frame_1521,FPS_1.0;  Frame_1522,FPS_1.0;  Frame_1523,FPS_1.0;  Frame_1524,FPS_1.0;  Frame_1525,FPS_1.0;  Frame_1526,FPS_1.0;  Frame_1527,FPS_1.0;  Frame_1528,FPS_1.0;  Frame_1529,FPS_1.0;  Frame_1530,FPS_1.0;  Frame_1531,FPS_1.0;  Frame_1532,FPS_1.0;  Frame_1533,FPS_1.0;  Frame_1534,FPS_1.0;  Frame_1535,FPS_1.0;  Frame_1536,FPS_1.0;  Frame_1537,FPS_1.0;  Frame_1538,FPS_1.0;  Frame_1539,FPS_1.0;  Frame_1540,FPS_1.0;  Frame_1541,FPS_1.0;  Frame_1542,FPS_1.0;  Frame_1543,FPS_1.0;  Frame_1544,FPS_1.0;  Frame_1545,FPS_1.0;  Frame_1546,FPS_1.0;  Frame_1547,FPS_1.0;  Frame_1548,FPS_1.0;  Frame_1549,FPS_1.0;  Frame_1550,FPS_1.0;  Frame_1551,FPS_1.0;  Frame_1552,FPS_1.0;  Frame_1553,FPS_1.0;  Frame_1554,FPS_1.0;  Frame_1555,FPS_1.0;  Frame_1556,FPS_1.0;  Frame_1557,FPS_1.0;  Frame_1558,FPS_1.0;  Frame_1559,FPS_1.0;  Frame_1560,FPS_1.0;  Frame_1561,FPS_1.0;  Frame_1562,FPS_1.0;  Frame_1563,FPS_1.0;  Frame_1564,FPS_1.0;  Frame_1565,FPS_1.0;  Frame_1566,FPS_1.0;  Frame_1567,FPS_1.0;  Frame_1568,FPS_1.0;  Frame_1569,FPS_1.0;  Frame_1570,FPS_1.0;  Frame_1571,FPS_1.0;  Frame_1572,FPS_1.0;  Frame_1573,FPS_1.0;  Frame_1574,FPS_1.0;  Frame_1575,FPS_1.0;  Frame_1576,FPS_1.0;  Frame_1577,FPS_1.0;  Frame_1578,FPS_1.0;  Frame_1579,FPS_1.0;  Frame_1580,FPS_1.0;  Frame_1581,FPS_1.0;  Frame_1582,FPS_1.0;  Frame_1583,FPS_1.0;  Frame_1584,FPS_1.0;  Frame_1585,FPS_1.0;  Frame_1586,FPS_1.0;  Frame_1587,FPS_1.0;  Frame_1588,FPS_1.0;  Frame_1589,FPS_1.0;  Frame_1590,FPS_1.0;  Frame_1591,FPS_1.0;  Frame_1592,FPS_1.0;  Frame_1593,FPS_1.0;  Frame_1594,FPS_1.0;  Frame_1595,FPS_1.0;  Frame_1596,FPS_1.0;  Frame_1597,FPS_1.0;  Frame_1598,FPS_1.0;  Frame_1599,FPS_1.0;  Frame_1600,FPS_1.0;  Frame_1601,FPS_1.0;  Frame_1602,FPS_1.0;  Frame_1603,FPS_1.0;  Frame_1604,FPS_1.0;  Frame_1605,FPS_1.0;  Frame_1606,FPS_1.0;  Frame_1607,FPS_1.0;  Frame_1608,FPS_1.0;  Frame_1609,FPS_1.0;  Frame_1610,FPS_1.0;  Frame_1611,FPS_1.0;  Frame_1612,FPS_1.0;  Frame_1613,FPS_1.0;  Frame_1614,FPS_1.0;  Frame_1615,FPS_1.0;  Frame_1616,FPS_1.0;  Frame_1617,FPS_1.0;  Frame_1618,FPS_1.0;  Frame_1619,FPS_1.0;  Frame_1620,FPS_1.0;  Frame_1621,FPS_1.0;  Frame_1622,FPS_1.0;  Frame_1623,FPS_1.0;  Frame_1624,FPS_1.0;  Frame_1625,FPS_1.0;  Frame_1626,FPS_1.0;  Frame_1627,FPS_1.0;  Frame_1628,FPS_1.0;  Frame_1629,FPS_1.0;  Frame_1630,FPS_1.0;  Frame_1631,FPS_1.0;  Frame_1632,FPS_1.0;  Frame_1633,FPS_1.0;  Frame_1634,FPS_1.0;  Frame_1635,FPS_1.0;  Frame_1636,FPS_1.0;  Frame_1637,FPS_1.0;  Frame_1638,FPS_1.0;  Frame_1639,FPS_1.0;  Frame_1640,FPS_1.0;  Frame_1641,FPS_1.0;  Frame_1642,FPS_1.0;  Frame_1643,FPS_1.0;  Frame_1644,FPS_1.0;  Frame_1645,FPS_1.0;  Frame_1646,FPS_1.0;  Frame_1647,FPS_1.0;  Frame_1648,FPS_1.0;  Frame_1649,FPS_1.0;  Frame_1650,FPS_1.0;  Frame_1651,FPS_1.0;  Frame_1652,FPS_1.0;  Frame_1653,FPS_1.0;  Frame_1654,FPS_1.0;  Frame_1655,FPS_1.0;  Frame_1656,FPS_1.0;  Frame_1657,FPS_1.0;  Frame_1658,FPS_1.0;  Frame_1659,FPS_1.0;  Frame_1660,FPS_1.0;  Frame_1661,FPS_1.0;  Frame_1662,FPS_1.0;  Frame_1663,FPS_1.0;  Frame_1664,FPS_1.0;  Frame_1665,FPS_1.0;  Frame_1666,FPS_1.0;  Frame_1667,FPS_1.0;  Frame_1668,FPS_1.0;  Frame_1669,FPS_1.0;  Frame_1670,FPS_1.0;  Frame_1671,FPS_1.0;  Frame_1672,FPS_1.0;  Frame_1673,FPS_1.0;  Frame_1674,FPS_1.0;  Frame_1675,FPS_1.0;  Frame_1676,FPS_1.0;  Frame_1677,FPS_1.0;  Frame_1678,FPS_1.0;  Frame_1679,FPS_1.0;  Frame_1680,FPS_1.0;  Frame_1681,FPS_1.0;  Frame_1682,FPS_1.0;  Frame_1683,FPS_1.0;  Frame_1684,FPS_1.0;  Frame_1685,FPS_1.0;  Frame_1686,FPS_1.0;  Frame_1687,FPS_1.0;  Frame_1688,FPS_1.0;  Frame_1689,FPS_1.0;  Frame_1690,FPS_1.0;  Frame_1691,FPS_1.0;  Frame_1692,FPS_1.0;  Frame_1693,FPS_1.0;  Frame_1694,FPS_1.0;  Frame_1695,FPS_1.0;  Frame_1696,FPS_1.0;  Frame_1697,FPS_1.0;  Frame_1698,FPS_1.0;  Frame_1699,FPS_1.0;  Frame_1700,FPS_1.0;  Frame_1701,FPS_1.0;  Frame_1702,FPS_1.0;  Frame_1703,FPS_1.0;  Frame_1704,FPS_1.0;  Frame_1705,FPS_1.0;  Frame_1706,FPS_1.0;  Frame_1707,FPS_1.0;  Frame_1708,FPS_1.0;  Frame_1709,FPS_1.0;  Frame_1710,FPS_1.0;  Frame_1711,FPS_1.0;  Frame_1712,FPS_1.0;  Frame_1713,FPS_1.0;  Frame_1714,FPS_1.0;  Frame_1715,FPS_1.0;  Frame_1716,FPS_1.0;  Frame_1717,FPS_1.0;  Frame_1718,FPS_1.0;  Frame_1719,FPS_1.0;  Frame_1720,FPS_1.0;  Frame_1721,FPS_1.0;  Frame_1722,FPS_1.0;  Frame_1723,FPS_1.0;  Frame_1724,FPS_1.0;  Frame_1725,FPS_1.0;  Frame_1726,FPS_1.0;  Frame_1727,FPS_1.0;  Frame_1728,FPS_1.0;  Frame_1729,FPS_1.0;  Frame_1730,FPS_1.0;  Frame_1731,FPS_1.0;  Frame_1732,FPS_1.0;  Frame_1733,FPS_1.0;  Frame_1734,FPS_1.0;  Frame_1735,FPS_1.0;  Frame_1736,FPS_1.0;  Frame_1737,FPS_1.0;  Frame_1738,FPS_1.0;  Frame_1739,FPS_1.0;  Frame_1740,FPS_1.0;  Frame_1741,FPS_1.0;  Frame_1742,FPS_1.0;  Frame_1743,FPS_1.0;  Frame_1744,FPS_1.0;  Frame_1745,FPS_1.0;  Frame_1746,FPS_1.0;  Frame_1747,FPS_1.0;  Frame_1748,FPS_1.0;  Frame_1749,FPS_1.0;  Frame_1750,FPS_1.0;  Frame_1751,FPS_1.0;  Frame_1752,FPS_1.0;  Frame_1753,FPS_1.0;  Frame_1754,FPS_1.0;  Frame_1755,FPS_1.0;  Frame_1756,FPS_1.0;  Frame_1757,FPS_1.0;  Frame_1758,FPS_1.0;  Frame_1759,FPS_1.0;  Frame_1760,FPS_1.0;  Frame_1761,FPS_1.0;  Frame_1762,FPS_1.0;  Frame_1763,FPS_1.0;  Frame_1764,FPS_1.0;  Frame_1765,FPS_1.0;  Frame_1766,FPS_1.0;  Frame_1767,FPS_1.0;  Frame_1768,FPS_1.0;  Frame_1769,FPS_1.0;  Frame_1770,FPS_1.0;  Frame_1771,FPS_1.0;  Frame_1772,FPS_1.0;  Frame_1773,FPS_1.0;  Frame_1774,FPS_1.0;  Frame_1775,FPS_1.0;  Frame_1776,FPS_1.0;  Frame_1777,FPS_1.0;  Frame_1778,FPS_1.0;  Frame_1779,FPS_1.0;  Frame_1780,FPS_1.0;  Frame_1781,FPS_1.0;  Frame_1782,FPS_1.0;  Frame_1783,FPS_1.0;  Frame_1784,FPS_1.0;  Frame_1785,FPS_1.0;  Frame_1786,FPS_1.0;  Frame_1787,FPS_1.0;  Frame_1788,FPS_1.0;  Frame_1789,FPS_1.0;  Frame_1790,FPS_1.0;  Frame_1791,FPS_1.0;  Frame_1792,FPS_1.0;  Frame_1793,FPS_1.0;  Frame_1794,FPS_1.0;  Frame_1795,FPS_1.0;  Frame_1796,FPS_1.0;  Frame_1797,FPS_1.0;  Frame_1798,FPS_1.0;  Frame_1799,FPS_1.0;  Frame_1800,FPS_1.0;  Frame_1801,FPS_1.0;  Frame_1802,FPS_1.0;  Frame_1803,FPS_1.0;  Frame_1804,FPS_1.0;  Frame_1805,FPS_1.0;  Frame_1806,FPS_1.0;  Frame_1807,FPS_1.0;  Frame_1808,FPS_1.0;  Frame_1809,FPS_1.0;  Frame_1810,FPS_1.0;  Frame_1811,FPS_1.0;  Frame_1812,FPS_1.0;  Frame_1813,FPS_1.0;  Frame_1814,FPS_1.0;  Frame_1815,FPS_1.0;  Frame_1816,FPS_1.0;  Frame_1817,FPS_1.0;  Frame_1818,FPS_1.0;  Frame_1819,FPS_1.0;  Frame_1820,FPS_1.0;  Frame_1821,FPS_1.0;  Frame_1822,FPS_1.0;  Frame_1823,FPS_1.0;  Frame_1824,FPS_1.0;  Frame_1825,FPS_1.0;  Frame_1826,FPS_1.0;  Frame_1827,FPS_1.0;  Frame_1828,FPS_1.0;  Frame_1829,FPS_1.0;  Frame_1830,FPS_1.0;  Frame_1831,FPS_1.0;  Frame_1832,FPS_1.0;  Frame_1833,FPS_1.0;  Frame_1834,FPS_1.0;  Frame_1835,FPS_1.0;  Frame_1836,FPS_1.0;  Frame_1837,FPS_1.0;  Frame_1838,FPS_1.0;  Frame_1839,FPS_1.0;  Frame_1840,FPS_1.0;  Frame_1841,FPS_1.0;  Frame_1842,FPS_1.0;  Frame_1843,FPS_1.0;  Frame_1844,FPS_1.0;  Frame_1845,FPS_1.0;  Frame_1846,FPS_1.0;  Frame_1847,FPS_1.0;  Frame_1848,FPS_1.0;  Frame_1849,FPS_1.0;  Frame_1850,FPS_1.0;  Frame_1851,FPS_1.0;  Frame_1852,FPS_1.0;  Frame_1853,FPS_1.0;  Frame_1854,FPS_1.0;  Frame_1855,FPS_1.0;  Frame_1856,FPS_1.0;  Frame_1857,FPS_1.0;  Frame_1858,FPS_1.0;  Frame_1859,FPS_1.0;  Frame_1860,FPS_1.0;  Frame_1861,FPS_1.0;  Frame_1862,FPS_1.0;  Frame_1863,FPS_1.0;  Frame_1864,FPS_1.0;  Frame_1865,FPS_1.0;  Frame_1866,FPS_1.0;  Frame_1867,FPS_1.0;  Frame_1868,FPS_1.0;  Frame_1869,FPS_1.0;  Frame_1870,FPS_1.0;  Frame_1871,FPS_1.0;  Frame_1872,FPS_1.0;  Frame_1873,FPS_1.0;  Frame_1874,FPS_1.0;  Frame_1875,FPS_1.0;  Frame_1876,FPS_1.0;  Frame_1877,FPS_1.0;  Frame_1878,FPS_1.0;  Frame_1879,FPS_1.0;  Frame_1880,FPS_1.0;  Frame_1881,FPS_1.0;  Frame_1882,FPS_1.0;  Frame_1883,FPS_1.0;  Frame_1884,FPS_1.0;  Frame_1885,FPS_1.0;  Frame_1886,FPS_1.0;  Frame_1887,FPS_1.0;  Frame_1888,FPS_1.0;  Frame_1889,FPS_1.0;  Frame_1890,FPS_1.0;  Frame_1891,FPS_1.0;  Frame_1892,FPS_1.0;  Frame_1893,FPS_1.0;  Frame_1894,FPS_1.0;  Frame_1895,FPS_1.0;  Frame_1896,FPS_1.0;  Frame_1897,FPS_1.0;  Frame_1898,FPS_1.0;  Frame_1899,FPS_1.0;  Frame_1900,FPS_1.0;  Frame_1901,FPS_1.0;  Frame_1902,FPS_1.0;  Frame_1903,FPS_1.0;  Frame_1904,FPS_1.0;  Frame_1905,FPS_1.0;  Frame_1906,FPS_1.0;  Frame_1907,FPS_1.0;  Frame_1908,FPS_1.0;  Frame_1909,FPS_1.0;  Frame_1910,FPS_1.0;  Frame_1911,FPS_1.0;  Frame_1912,FPS_1.0;  Frame_1913,FPS_1.0;  Frame_1914,FPS_1.0;  Frame_1915,FPS_1.0;  Frame_1916,FPS_1.0;  Frame_1917,FPS_1.0;  Frame_1918,FPS_1.0;  Frame_1919,FPS_1.0;  Frame_1920,FPS_1.0;  Frame_1921,FPS_1.0;  Frame_1922,FPS_1.0;  Frame_1923,FPS_1.0;  Frame_1924,FPS_1.0;  Frame_1925,FPS_1.0;  Frame_1926,FPS_1.0;  Frame_1927,FPS_1.0;  Frame_1928,FPS_1.0;  Frame_1929,FPS_1.0;  Frame_1930,FPS_1.0;  Frame_1931,FPS_1.0;  Frame_1932,FPS_1.0;  Frame_1933,FPS_1.0;  Frame_1934,FPS_1.0;  Frame_1935,FPS_1.0;  Frame_1936,FPS_1.0;  Frame_1937,FPS_1.0;  Frame_1938,FPS_1.0;  Frame_1939,FPS_1.0;  Frame_1940,FPS_1.0;  Frame_1941,FPS_1.0;  Frame_1942,FPS_1.0;  Frame_1943,FPS_1.0;  Frame_1944,FPS_1.0;  Frame_1945,FPS_1.0;  Frame_1946,FPS_1.0;  Frame_1947,FPS_1.0;  Frame_1948,FPS_1.0;  Frame_1949,FPS_1.0;  Frame_1950,FPS_1.0;  Frame_1951,FPS_1.0;  Frame_1952,FPS_1.0;  Frame_1953,FPS_1.0;  Frame_1954,FPS_1.0;  Frame_1955,FPS_1.0;  Frame_1956,FPS_1.0;  Frame_1957,FPS_1.0;  Frame_1958,FPS_1.0;  Frame_1959,FPS_1.0;  Frame_1960,FPS_1.0;  Frame_1961,FPS_1.0;  Frame_1962,FPS_1.0;  Frame_1963,FPS_1.0;  Frame_1964,FPS_1.0;  Frame_1965,FPS_1.0;  Frame_1966,FPS_1.0;  Frame_1967,FPS_1.0;  Frame_1968,FPS_1.0;  Frame_1969,FPS_1.0;  Frame_1970,FPS_1.0;  Frame_1971,FPS_1.0;  Frame_1972,FPS_1.0;  Frame_1973,FPS_1.0;  Frame_1974,FPS_1.0;  Frame_1975,FPS_1.0;  Frame_1976,FPS_1.0;  Frame_1977,FPS_1.0;  Frame_1978,FPS_1.0;  Frame_1979,FPS_1.0;  Frame_1980,FPS_1.0;  Frame_1981,FPS_1.0;  Frame_1982,FPS_1.0;  Frame_1983,FPS_1.0;  Frame_1984,FPS_1.0;  Frame_1985,FPS_1.0;  Frame_1986,FPS_1.0;  Frame_1987,FPS_1.0;  Frame_1988,FPS_1.0;  Frame_1989,FPS_1.0;  Frame_1990,FPS_1.0;  Frame_1991,FPS_1.0;  Frame_1992,FPS_1.0;  Frame_1993,FPS_1.0;  Frame_1994,FPS_1.0;  Frame_1995,FPS_1.0;  Frame_1996,FPS_1.0;  Frame_1997,FPS_1.0;  Frame_1998,FPS_1.0;  Frame_1999,FPS_1.0;  Frame_2000,FPS_1.0;  Frame_2001,FPS_1.0;  Frame_2002,FPS_1.0;  Frame_2003,FPS_1.0;  Frame_2004,FPS_1.0;  Frame_2005,FPS_1.0;  Frame_2006,FPS_1.0;  Frame_2007,FPS_1.0;  Frame_2008,FPS_1.0;  Frame_2009,FPS_1.0;  Frame_2010,FPS_1.0;  Frame_2011,FPS_1.0;  Frame_2012,FPS_1.0;  Frame_2013,FPS_1.0;  Frame_2014,FPS_1.0;  Frame_2015,FPS_1.0;  Frame_2016,FPS_1.0;  Frame_2017,FPS_1.0;  Frame_2018,FPS_1.0;  Frame_2019,FPS_1.0;  Frame_2020,FPS_1.0;  Frame_2021,FPS_1.0;  Frame_2022,FPS_1.0;  Frame_2023,FPS_1.0;  Frame_2024,FPS_1.0;  Frame_2025,FPS_1.0;  Frame_2026,FPS_1.0;  Frame_2027,FPS_1.0;  Frame_2028,FPS_1.0;  Frame_2029,FPS_1.0;  Frame_2030,FPS_1.0;  Frame_2031,FPS_1.0;  Frame_2032,FPS_1.0;  Frame_2033,FPS_1.0;  Frame_2034,FPS_1.0;  Frame_2035,FPS_1.0;  Frame_2036,FPS_1.0;  Frame_2037,FPS_1.0;  Frame_2038,FPS_1.0;  Frame_2039,FPS_1.0;  Frame_2040,FPS_1.0;  Frame_2041,FPS_1.0;  Frame_2042,FPS_1.0;  Frame_2043,FPS_1.0;  Frame_2044,FPS_1.0;  Frame_2045,FPS_1.0;  Frame_2046,FPS_1.0;  Frame_2047,FPS_1.0;  Frame_2048,FPS_1.0;  Frame_2049,FPS_1.0;  Frame_2050,FPS_1.0;  Frame_2051,FPS_1.0;  Frame_2052,FPS_1.0;  Frame_2053,FPS_1.0;  Frame_2054,FPS_1.0;  Frame_2055,FPS_1.0;  Frame_2056,FPS_1.0;  Frame_2057,FPS_1.0;  Frame_2058,FPS_1.0;  Frame_2059,FPS_1.0;  Frame_2060,FPS_1.0;  Frame_2061,FPS_1.0;  Frame_2062,FPS_1.0;  Frame_2063,"
     ]
    }
   ],
   "source": [
    "path='C:/Users/piyalong/Videos/test12.mp4'\n",
    "from support_functions.video_processer_CPU import VideoProcesser\n",
    "VP = VideoProcesser()\n",
    "VP.display=True\n",
    "# VP.classes_interested = all_names\n",
    "VP.conf_thres=0.2\n",
    "VP.weights = \"C:/Users/piyalong/yolov5-master/yolov5-master/yolov5n.pt\"\n",
    "VP.img_size=1280\n",
    "VP.skipframe=1\n",
    "# VP.read_pixel_file('C:/Users/piyalong/Pictures/5_groups.json')\n",
    "\n",
    "# VP.read_pixel_file('C:/Users/piyalong/Traffic Management/2021season/OCT 2 (SAT) SEC  MISSISSIPPI STATE/Passageway(Mobile)_2021-10-02_22h00min02s883ms_Moment.json')\n",
    "VP.tracking(path)"
   ]
  },
  {
   "cell_type": "code",
   "execution_count": null,
   "metadata": {},
   "outputs": [],
   "source": []
  },
  {
   "cell_type": "code",
   "execution_count": null,
   "metadata": {},
   "outputs": [],
   "source": [
    "bool(VP.pixelzones)"
   ]
  },
  {
   "cell_type": "code",
   "execution_count": null,
   "metadata": {},
   "outputs": [],
   "source": [
    "import datetime"
   ]
  },
  {
   "cell_type": "code",
   "execution_count": null,
   "metadata": {},
   "outputs": [],
   "source": []
  },
  {
   "cell_type": "code",
   "execution_count": null,
   "metadata": {},
   "outputs": [],
   "source": [
    "import cv2\n",
    "cv2.destroyAllWindows()\n"
   ]
  },
  {
   "cell_type": "code",
   "execution_count": null,
   "metadata": {},
   "outputs": [],
   "source": [
    "t2= datetime.now()"
   ]
  },
  {
   "cell_type": "code",
   "execution_count": null,
   "metadata": {},
   "outputs": [],
   "source": [
    "time.time()"
   ]
  },
  {
   "cell_type": "code",
   "execution_count": null,
   "metadata": {},
   "outputs": [],
   "source": [
    "import time"
   ]
  },
  {
   "cell_type": "code",
   "execution_count": null,
   "metadata": {},
   "outputs": [],
   "source": []
  }
 ],
 "metadata": {
  "accelerator": "GPU",
  "colab": {
   "collapsed_sections": [],
   "include_colab_link": true,
   "name": "YOLOv5 Tutorial",
   "provenance": []
  },
  "kernelspec": {
   "display_name": "Python 3",
   "language": "python",
   "name": "python3"
  },
  "language_info": {
   "codemirror_mode": {
    "name": "ipython",
    "version": 3
   },
   "file_extension": ".py",
   "mimetype": "text/x-python",
   "name": "python",
   "nbconvert_exporter": "python",
   "pygments_lexer": "ipython3",
   "version": "3.8.5"
  },
  "widgets": {
   "application/vnd.jupyter.widget-state+json": {
    "0ce7164fc0c74bb9a2b5c7037375a727": {
     "model_module": "@jupyter-widgets/controls",
     "model_module_version": "1.5.0",
     "model_name": "ProgressStyleModel",
     "state": {
      "_model_module": "@jupyter-widgets/controls",
      "_model_module_version": "1.5.0",
      "_model_name": "ProgressStyleModel",
      "_view_count": null,
      "_view_module": "@jupyter-widgets/base",
      "_view_module_version": "1.2.0",
      "_view_name": "StyleView",
      "bar_color": null,
      "description_width": ""
     }
    },
    "25621cff5d16448cb7260e839fd0f543": {
     "model_module": "@jupyter-widgets/base",
     "model_module_version": "1.2.0",
     "model_name": "LayoutModel",
     "state": {
      "_model_module": "@jupyter-widgets/base",
      "_model_module_version": "1.2.0",
      "_model_name": "LayoutModel",
      "_view_count": null,
      "_view_module": "@jupyter-widgets/base",
      "_view_module_version": "1.2.0",
      "_view_name": "LayoutView",
      "align_content": null,
      "align_items": null,
      "align_self": null,
      "border": null,
      "bottom": null,
      "display": null,
      "flex": null,
      "flex_flow": null,
      "grid_area": null,
      "grid_auto_columns": null,
      "grid_auto_flow": null,
      "grid_auto_rows": null,
      "grid_column": null,
      "grid_gap": null,
      "grid_row": null,
      "grid_template_areas": null,
      "grid_template_columns": null,
      "grid_template_rows": null,
      "height": null,
      "justify_content": null,
      "justify_items": null,
      "left": null,
      "margin": null,
      "max_height": null,
      "max_width": null,
      "min_height": null,
      "min_width": null,
      "object_fit": null,
      "object_position": null,
      "order": null,
      "overflow": null,
      "overflow_x": null,
      "overflow_y": null,
      "padding": null,
      "right": null,
      "top": null,
      "visibility": null,
      "width": null
     }
    },
    "384a001876054c93b0af45cd1e960bfe": {
     "model_module": "@jupyter-widgets/controls",
     "model_module_version": "1.5.0",
     "model_name": "HTMLModel",
     "state": {
      "_dom_classes": [],
      "_model_module": "@jupyter-widgets/controls",
      "_model_module_version": "1.5.0",
      "_model_name": "HTMLModel",
      "_view_count": null,
      "_view_module": "@jupyter-widgets/controls",
      "_view_module_version": "1.5.0",
      "_view_name": "HTMLView",
      "description": "",
      "description_tooltip": null,
      "layout": "IPY_MODEL_25621cff5d16448cb7260e839fd0f543",
      "placeholder": "​",
      "style": "IPY_MODEL_9f09facb2a6c4a7096810d327c8b551c",
      "value": "100%"
     }
    },
    "473371611126476c88d5d42ec7031ed6": {
     "model_module": "@jupyter-widgets/controls",
     "model_module_version": "1.5.0",
     "model_name": "DescriptionStyleModel",
     "state": {
      "_model_module": "@jupyter-widgets/controls",
      "_model_module_version": "1.5.0",
      "_model_name": "DescriptionStyleModel",
      "_view_count": null,
      "_view_module": "@jupyter-widgets/base",
      "_view_module_version": "1.2.0",
      "_view_name": "StyleView",
      "description_width": ""
     }
    },
    "5296d28be75740b2892ae421bbec3657": {
     "model_module": "@jupyter-widgets/controls",
     "model_module_version": "1.5.0",
     "model_name": "HTMLModel",
     "state": {
      "_dom_classes": [],
      "_model_module": "@jupyter-widgets/controls",
      "_model_module_version": "1.5.0",
      "_model_name": "HTMLModel",
      "_view_count": null,
      "_view_module": "@jupyter-widgets/controls",
      "_view_module_version": "1.5.0",
      "_view_name": "HTMLView",
      "description": "",
      "description_tooltip": null,
      "layout": "IPY_MODEL_65efdfd0d26c46e79c8c5ff3b77126cc",
      "placeholder": "​",
      "style": "IPY_MODEL_473371611126476c88d5d42ec7031ed6",
      "value": " 780M/780M [00:11&lt;00:00, 91.9MB/s]"
     }
    },
    "65efdfd0d26c46e79c8c5ff3b77126cc": {
     "model_module": "@jupyter-widgets/base",
     "model_module_version": "1.2.0",
     "model_name": "LayoutModel",
     "state": {
      "_model_module": "@jupyter-widgets/base",
      "_model_module_version": "1.2.0",
      "_model_name": "LayoutModel",
      "_view_count": null,
      "_view_module": "@jupyter-widgets/base",
      "_view_module_version": "1.2.0",
      "_view_name": "LayoutView",
      "align_content": null,
      "align_items": null,
      "align_self": null,
      "border": null,
      "bottom": null,
      "display": null,
      "flex": null,
      "flex_flow": null,
      "grid_area": null,
      "grid_auto_columns": null,
      "grid_auto_flow": null,
      "grid_auto_rows": null,
      "grid_column": null,
      "grid_gap": null,
      "grid_row": null,
      "grid_template_areas": null,
      "grid_template_columns": null,
      "grid_template_rows": null,
      "height": null,
      "justify_content": null,
      "justify_items": null,
      "left": null,
      "margin": null,
      "max_height": null,
      "max_width": null,
      "min_height": null,
      "min_width": null,
      "object_fit": null,
      "object_position": null,
      "order": null,
      "overflow": null,
      "overflow_x": null,
      "overflow_y": null,
      "padding": null,
      "right": null,
      "top": null,
      "visibility": null,
      "width": null
     }
    },
    "769ecde6f2e64bacb596ce972f8d3d2d": {
     "model_module": "@jupyter-widgets/base",
     "model_module_version": "1.2.0",
     "model_name": "LayoutModel",
     "state": {
      "_model_module": "@jupyter-widgets/base",
      "_model_module_version": "1.2.0",
      "_model_name": "LayoutModel",
      "_view_count": null,
      "_view_module": "@jupyter-widgets/base",
      "_view_module_version": "1.2.0",
      "_view_name": "LayoutView",
      "align_content": null,
      "align_items": null,
      "align_self": null,
      "border": null,
      "bottom": null,
      "display": null,
      "flex": null,
      "flex_flow": null,
      "grid_area": null,
      "grid_auto_columns": null,
      "grid_auto_flow": null,
      "grid_auto_rows": null,
      "grid_column": null,
      "grid_gap": null,
      "grid_row": null,
      "grid_template_areas": null,
      "grid_template_columns": null,
      "grid_template_rows": null,
      "height": null,
      "justify_content": null,
      "justify_items": null,
      "left": null,
      "margin": null,
      "max_height": null,
      "max_width": null,
      "min_height": null,
      "min_width": null,
      "object_fit": null,
      "object_position": null,
      "order": null,
      "overflow": null,
      "overflow_x": null,
      "overflow_y": null,
      "padding": null,
      "right": null,
      "top": null,
      "visibility": null,
      "width": null
     }
    },
    "9f09facb2a6c4a7096810d327c8b551c": {
     "model_module": "@jupyter-widgets/controls",
     "model_module_version": "1.5.0",
     "model_name": "DescriptionStyleModel",
     "state": {
      "_model_module": "@jupyter-widgets/controls",
      "_model_module_version": "1.5.0",
      "_model_name": "DescriptionStyleModel",
      "_view_count": null,
      "_view_module": "@jupyter-widgets/base",
      "_view_module_version": "1.2.0",
      "_view_name": "StyleView",
      "description_width": ""
     }
    },
    "c4c4593c10904cb5b8a5724d60c7e181": {
     "model_module": "@jupyter-widgets/base",
     "model_module_version": "1.2.0",
     "model_name": "LayoutModel",
     "state": {
      "_model_module": "@jupyter-widgets/base",
      "_model_module_version": "1.2.0",
      "_model_name": "LayoutModel",
      "_view_count": null,
      "_view_module": "@jupyter-widgets/base",
      "_view_module_version": "1.2.0",
      "_view_name": "LayoutView",
      "align_content": null,
      "align_items": null,
      "align_self": null,
      "border": null,
      "bottom": null,
      "display": null,
      "flex": null,
      "flex_flow": null,
      "grid_area": null,
      "grid_auto_columns": null,
      "grid_auto_flow": null,
      "grid_auto_rows": null,
      "grid_column": null,
      "grid_gap": null,
      "grid_row": null,
      "grid_template_areas": null,
      "grid_template_columns": null,
      "grid_template_rows": null,
      "height": null,
      "justify_content": null,
      "justify_items": null,
      "left": null,
      "margin": null,
      "max_height": null,
      "max_width": null,
      "min_height": null,
      "min_width": null,
      "object_fit": null,
      "object_position": null,
      "order": null,
      "overflow": null,
      "overflow_x": null,
      "overflow_y": null,
      "padding": null,
      "right": null,
      "top": null,
      "visibility": null,
      "width": null
     }
    },
    "dded0aeae74440f7ba2ffa0beb8dd612": {
     "model_module": "@jupyter-widgets/controls",
     "model_module_version": "1.5.0",
     "model_name": "FloatProgressModel",
     "state": {
      "_dom_classes": [],
      "_model_module": "@jupyter-widgets/controls",
      "_model_module_version": "1.5.0",
      "_model_name": "FloatProgressModel",
      "_view_count": null,
      "_view_module": "@jupyter-widgets/controls",
      "_view_module_version": "1.5.0",
      "_view_name": "ProgressView",
      "bar_style": "success",
      "description": "",
      "description_tooltip": null,
      "layout": "IPY_MODEL_c4c4593c10904cb5b8a5724d60c7e181",
      "max": 818322941,
      "min": 0,
      "orientation": "horizontal",
      "style": "IPY_MODEL_0ce7164fc0c74bb9a2b5c7037375a727",
      "value": 818322941
     }
    },
    "eb95db7cae194218b3fcefb439b6352f": {
     "model_module": "@jupyter-widgets/controls",
     "model_module_version": "1.5.0",
     "model_name": "HBoxModel",
     "state": {
      "_dom_classes": [],
      "_model_module": "@jupyter-widgets/controls",
      "_model_module_version": "1.5.0",
      "_model_name": "HBoxModel",
      "_view_count": null,
      "_view_module": "@jupyter-widgets/controls",
      "_view_module_version": "1.5.0",
      "_view_name": "HBoxView",
      "box_style": "",
      "children": [
       "IPY_MODEL_384a001876054c93b0af45cd1e960bfe",
       "IPY_MODEL_dded0aeae74440f7ba2ffa0beb8dd612",
       "IPY_MODEL_5296d28be75740b2892ae421bbec3657"
      ],
      "layout": "IPY_MODEL_769ecde6f2e64bacb596ce972f8d3d2d"
     }
    }
   }
  }
 },
 "nbformat": 4,
 "nbformat_minor": 4
}
