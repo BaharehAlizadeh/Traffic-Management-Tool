{
 "cells": [
  {
   "cell_type": "code",
   "execution_count": 3,
   "id": "de1f7dd4",
   "metadata": {},
   "outputs": [],
   "source": [
    "import os, sys\n",
    "sys.path.append(\"C:/Users/piyalong/CrowdCounting-P2PNet/\")\n",
    "sys.path.append('C:/Users/piyalong/multi-object-tracker/')\n",
    "\n",
    "import argparse\n",
    "import datetime\n",
    "import random\n",
    "import time\n",
    "from pathlib import Path\n",
    "\n",
    "import torch\n",
    "import torchvision.transforms as standard_transforms\n",
    "import numpy as np\n",
    "\n",
    "from PIL import Image\n",
    "import cv2\n",
    "from crowd_datasets import build_dataset\n",
    "from engine import *\n",
    "from models import build_model\n",
    "\n",
    "import warnings\n",
    "warnings.filterwarnings('ignore')\n",
    "\n",
    "from matplotlib import pyplot as plt\n",
    "\n",
    "torch.cuda.empty_cache() \n"
   ]
  },
  {
   "cell_type": "code",
   "execution_count": 4,
   "id": "acae4d4f",
   "metadata": {},
   "outputs": [
    {
     "name": "stdout",
     "output_type": "stream",
     "text": [
      "<__main__.Args object at 0x0000013D9C868648>\n"
     ]
    }
   ],
   "source": [
    "class Args():\n",
    "    backbone='vgg16_bn'\n",
    "    gpu_id=0\n",
    "    img_path='vis/test.jpg'\n",
    "    line=2\n",
    "    output_dir='output'\n",
    "    row=2\n",
    "    weight_path='C:/Users/piyalong/CrowdCounting-P2PNet//weights/SHTechA.pth'\n",
    "\n",
    "args=Args()\n",
    "\n",
    "device = torch.device(\"cuda:0\" if torch.cuda.is_available() else \"cpu\")\n",
    "torch. set_grad_enabled(False)\n",
    "# def main(args, debug=False):\n",
    "\n",
    "#     os.environ[\"CUDA_VISIBLE_DEVICES\"] = '{}'.format(args.gpu_id)\n",
    "\n",
    "print(args)\n",
    "# device = torch.device('cpu')\n",
    "# get the P2PNet\n",
    "model = build_model(args)\n",
    "# move to GPU\n",
    "model.to(device)\n",
    "# load trained model\n",
    "if args.weight_path is not None:\n",
    "    checkpoint = torch.load(args.weight_path, map_location=device)\n",
    "    model.load_state_dict(checkpoint['model'])\n",
    "# convert to eval mode\n",
    "model.eval()\n",
    "# create the pre-processing transform\n",
    "transform = standard_transforms.Compose([\n",
    "    standard_transforms.ToTensor(), \n",
    "    standard_transforms.Normalize(mean=[0.485, 0.456, 0.406], std=[0.229, 0.224, 0.225]),\n",
    "])\n"
   ]
  },
  {
   "cell_type": "code",
   "execution_count": null,
   "id": "26247cbb",
   "metadata": {},
   "outputs": [],
   "source": []
  },
  {
   "cell_type": "code",
   "execution_count": null,
   "id": "8da9cf13",
   "metadata": {},
   "outputs": [],
   "source": []
  },
  {
   "cell_type": "code",
   "execution_count": null,
   "id": "7c789719",
   "metadata": {},
   "outputs": [],
   "source": []
  },
  {
   "cell_type": "code",
   "execution_count": null,
   "id": "f6e1a31a",
   "metadata": {},
   "outputs": [],
   "source": []
  },
  {
   "cell_type": "code",
   "execution_count": 5,
   "id": "09b58b1f",
   "metadata": {},
   "outputs": [],
   "source": [
    "person_width = 20\n",
    "person_height = 40\n",
    "\n",
    "def point_to_box(points,scores):\n",
    "    ps=[]\n",
    "    for p in points:\n",
    "        top,left,bottom,right = p[1]-person_height,p[0]-person_width,p[1]+person_height,p[0]+person_width\n",
    "        ps.append( [int(left),int(top),person_width*2,person_height*2])\n",
    "    return(ps)\n",
    "# point_to_box(points,scores)"
   ]
  },
  {
   "cell_type": "code",
   "execution_count": null,
   "id": "9c346f0f",
   "metadata": {},
   "outputs": [],
   "source": []
  },
  {
   "cell_type": "code",
   "execution_count": null,
   "id": "265077c2",
   "metadata": {},
   "outputs": [],
   "source": []
  },
  {
   "cell_type": "code",
   "execution_count": 6,
   "id": "6093d1f4",
   "metadata": {},
   "outputs": [],
   "source": [
    "from motrackers import CentroidTracker, CentroidKF_Tracker, SORT, IOUTracker\n",
    "from motrackers.utils import draw_tracks\n",
    "def get_trace(file_path):\n",
    "    # file_path='C:/Users/piyalong/Traffic Management/2021season/Passageway(Mobile)_2021-10-02_21h20min02s757ms.mp4'\n",
    "    # file_path='C:/Users/piyalong/Traffic Management/2021season/maroonwhite/WCG _ PTZ PW Inside West (SC2)-2021-04-24_15h00min00s000ms.mp4'\n",
    "#     file_path='D:/Appa State/WCG _ PTZ PW Outside East View (SC4)-2022-09-10_18h00min00s000ms.mp4'\n",
    "\n",
    "    video_capture = cv2.VideoCapture(file_path)\n",
    "    w = int(video_capture.get(3))\n",
    "    h = int(video_capture.get(4))\n",
    "    fourcc = cv2.VideoWriter_fourcc(*'XVID')\n",
    "    fps = int(video_capture.get(cv2.CAP_PROP_FPS))\n",
    "    new_width = w // 128 * 128\n",
    "    new_height = h // 128 * 128\n",
    "    out = cv2.VideoWriter(file_path[:-4]+'_CentroidKF_Tracker.avi', fourcc, fps, (new_width, new_height))\n",
    "\n",
    "    tracker = CentroidKF_Tracker(max_lost=10,time_step=10)\n",
    "\n",
    "    # tracker = CentroidTracker(max_lost=fps)\n",
    "\n",
    "    data={}\n",
    "    frame_number=0\n",
    "    while True:\n",
    "        ret, frame = video_capture.read()  # frame shape 640*480*3\n",
    "        if ret != True:\n",
    "            break\n",
    "        img_raw = frame\n",
    "        img_raw = cv2.cvtColor(img_raw, cv2.COLOR_BGR2RGB)\n",
    "        img_raw = Image.fromarray(img_raw)\n",
    "        # round the size\n",
    "        width, height = img_raw.size\n",
    "        new_width = width // 128 * 128\n",
    "        new_height = height // 128 * 128\n",
    "        img_raw = img_raw.resize((new_width, new_height), Image.ANTIALIAS)\n",
    "        # pre-proccessing\n",
    "        img = transform(img_raw)\n",
    "\n",
    "        samples = torch.Tensor(img).unsqueeze(0)\n",
    "        samples = samples.to(device)\n",
    "        # run inference\n",
    "        outputs = model(samples)\n",
    "        outputs_scores = torch.nn.functional.softmax(outputs['pred_logits'], -1)[:, :, 1][0]\n",
    "\n",
    "        outputs_points = outputs['pred_points'][0]\n",
    "\n",
    "        threshold = 0.5\n",
    "        # filter the predictions\n",
    "        points = outputs_points[outputs_scores > threshold].detach().cpu().numpy().tolist()\n",
    "        predict_cnt = int((outputs_scores > threshold).sum())\n",
    "        scores= outputs_scores[outputs_scores > threshold].detach().cpu().numpy().tolist()\n",
    "\n",
    "        outputs_scores = torch.nn.functional.softmax(outputs['pred_logits'], -1)[:, :, 1][0]\n",
    "\n",
    "        outputs_points = outputs['pred_points'][0]\n",
    "\n",
    "        detection_bboxes = point_to_box(points,scores)\n",
    "\n",
    "        detection_confidences = np.array(scores)\n",
    "\n",
    "        detection_class_ids =np.ones(len(detection_confidences))\n",
    "        tracks = tracker.update(np.array(detection_bboxes), detection_confidences, detection_class_ids)\n",
    "        # output_tracks = tracker.track(detection_bboxes, detection_confidences, detection_class_ids)\n",
    "\n",
    "        # draw the predictions\n",
    "        size = 2\n",
    "        img_to_draw = cv2.cvtColor(np.array(img_raw), cv2.COLOR_RGB2BGR)\n",
    "\n",
    "\n",
    "        for t in tracks:\n",
    "            frame_numeber=t[0]\n",
    "            ID = t[1]\n",
    "            xmin,ymin,w,h = t[2:6]\n",
    "            xcentroid, ycentroid = int(xmin + 0.5*w), int(ymin + 0.5*h)\n",
    "            if ID in data.keys():\n",
    "                data[ID].append([xcentroid, ycentroid,frame_number])\n",
    "            else:\n",
    "                data.update({ID:[]})\n",
    "                data[ID].append([xcentroid, ycentroid,frame_number])\n",
    "\n",
    "        img_to_draw=cv2.putText(img_to_draw,\"Frame:\"+str(frame_number)+' FPS:'+str(fps),(100,50),cv2.FONT_HERSHEY_SIMPLEX,1, (255,0,0), 3)\n",
    "\n",
    "        updated_image = img_to_draw\n",
    "\n",
    "        updated_image = draw_tracks(updated_image, tracks)\n",
    "\n",
    "        updated_image = cv2.putText(updated_image,\"Crowd Estimation: \"+str(predict_cnt), (100,100), cv2.FONT_HERSHEY_SIMPLEX,1, (0,0,255), 3)\n",
    "\n",
    "        # cv2.imshow(\"Output\", updated_image)\n",
    "        out.write(updated_image)    \n",
    "        frame_number+=1\n",
    "        if cv2.waitKey(1) & 0xFF == ord('q'):\n",
    "\n",
    "            break\n",
    "    out.release()\n",
    "    cv2.destroyAllWindows()\n",
    "    np.save(file_path[:-4]+'.npy',data)"
   ]
  },
  {
   "cell_type": "code",
   "execution_count": null,
   "id": "beed0f01",
   "metadata": {},
   "outputs": [],
   "source": []
  },
  {
   "cell_type": "code",
   "execution_count": 7,
   "id": "e09f985e",
   "metadata": {},
   "outputs": [],
   "source": [
    "import os"
   ]
  },
  {
   "cell_type": "code",
   "execution_count": null,
   "id": "16afd917",
   "metadata": {},
   "outputs": [
    {
     "name": "stdout",
     "output_type": "stream",
     "text": [
      "D:/2022 season/Ole Miss\\WCG _ PTZ PW Outside East View (SC4)-2022-10-29_16h00min00s000ms.mp4\n",
      "D:/2022 season/Ole Miss\\WCG _ PTZ PW Outside East View (SC4)-2022-10-29_17h00min00s000ms.mp4\n",
      "D:/2022 season/Ole Miss\\WCG _ PTZ PW Outside East View (SC4)-2022-10-29_18h00min00s000ms.mp4\n",
      "D:/2022 season/Ole Miss\\WCG _ PTZ PW Outside East View (SC4)-2022-10-29_21h00min00s000ms.mp4\n",
      "D:/2022 season/Ole Miss\\WCG _ PTZ PW Outside East View (SC4)-2022-10-29_22h00min00s000ms.mp4\n",
      "D:/2022 season/Ole Miss\\WCG _ PTZ PW Outside East View (SC4)-2022-10-29_23h00min00s000ms.mp4\n",
      "D:/2022 season/Florida\\WCG _ PTZ PW Outside East View (SC4)-2022-11-05_14h00min00s000ms.mp4\n",
      "D:/2022 season/Florida\\WCG _ PTZ PW Outside East View (SC4)-2022-11-05_15h00min00s000ms.mp4\n",
      "D:/2022 season/LSU\\WCG _ PTZ PW Outside East View (SC4)-2022-11-26_21h00min00s000ms.mp4\n"
     ]
    }
   ],
   "source": [
    "for game in  ['Ole Miss','Florida','LSU']:\n",
    "\n",
    "    for file in os.listdir('D:/2022 season/'+game+\"/\"):\n",
    "        if file.endswith('.mp4') and \"Outside East View\" in file:\n",
    "            print(os.path.join('D:/2022 season/',game,file))\n",
    "            file_path=os.path.join('D:/2022 season/',game,file)\n",
    "            get_trace(file_path)"
   ]
  },
  {
   "cell_type": "code",
   "execution_count": 6,
   "id": "16b22b55",
   "metadata": {},
   "outputs": [],
   "source": [
    "get_trace('D:/2021season/Passageway(Mobile)_2021-10-02_21h20min02s757ms.mp4')"
   ]
  },
  {
   "cell_type": "code",
   "execution_count": 45,
   "id": "c0075706",
   "metadata": {},
   "outputs": [
    {
     "data": {
      "text/plain": [
       "14"
      ]
     },
     "execution_count": 45,
     "metadata": {},
     "output_type": "execute_result"
    }
   ],
   "source": [
    "fps"
   ]
  },
  {
   "cell_type": "code",
   "execution_count": 1,
   "id": "aed7c3a0",
   "metadata": {},
   "outputs": [
    {
     "name": "stdout",
     "output_type": "stream",
     "text": [
      "Python 3.6.15\n"
     ]
    }
   ],
   "source": []
  },
  {
   "cell_type": "code",
   "execution_count": null,
   "id": "e044f23c",
   "metadata": {},
   "outputs": [],
   "source": []
  }
 ],
 "metadata": {
  "interpreter": {
   "hash": "1b661d8c8d3dcdc0a04567d19d202ef4d670cb5996a93bcce7891944b0cd9be3"
  },
  "kernelspec": {
   "display_name": "Python 3 (ipykernel)",
   "language": "python",
   "name": "python3"
  },
  "language_info": {
   "codemirror_mode": {
    "name": "ipython",
    "version": 3
   },
   "file_extension": ".py",
   "mimetype": "text/x-python",
   "name": "python",
   "nbconvert_exporter": "python",
   "pygments_lexer": "ipython3",
   "version": "3.7.9"
  }
 },
 "nbformat": 4,
 "nbformat_minor": 5
}
